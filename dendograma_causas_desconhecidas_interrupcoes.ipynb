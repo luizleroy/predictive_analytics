{
  "nbformat": 4,
  "nbformat_minor": 0,
  "metadata": {
    "accelerator": "GPU",
    "colab": {
      "name": "dendograma_causas_desconhecidas_interrupcoes.ipynb",
      "provenance": [],
      "collapsed_sections": [],
      "toc_visible": true
    },
    "kernelspec": {
      "display_name": "Python 3",
      "name": "python3"
    }
  },
  "cells": [
    {
      "cell_type": "markdown",
      "metadata": {
        "id": "Za8-Nr5k11fh"
      },
      "source": [
        "##### Copyright 2021"
      ]
    },
    {
      "cell_type": "code",
      "metadata": {
        "id": "Eq10uEbw0E4l"
      },
      "source": [
        "TODO definir licença\n",
        "\n",
        "Ex:\n",
        "\n",
        "#@title Licensed under the Apache License, Version 2.0 (the \"License\");\n",
        "# you may not use this file except in compliance with the License.\n",
        "# You may obtain a copy of the License at\n",
        "#\n",
        "# https://www.apache.org/licenses/LICENSE-2.0\n",
        "#\n",
        "# Unless required by applicable law or agreed to in writing, software\n",
        "# distributed under the License is distributed on an \"AS IS\" BASIS,\n",
        "# WITHOUT WARRANTIES OR CONDITIONS OF ANY KIND, either express or implied.\n",
        "# See the License for the specific language governing permissions and\n",
        "# limitations under the License."
      ],
      "execution_count": null,
      "outputs": []
    },
    {
      "cell_type": "markdown",
      "metadata": {
        "id": "YHI3vyhv5p85"
      },
      "source": [
        "## **Proposta de classificação das causas de interrupções desconhecidas**"
      ]
    },
    {
      "cell_type": "markdown",
      "metadata": {
        "id": "OVi775ZJ2bsy"
      },
      "source": [
        "<table class=\"tfo-notebook-buttons\" align=\"left\">\n",
        "  <td>\n",
        "    <a target=\"_blank\" href=\"https://colab.research.google.com/github/cxxxc.ipynb\"><img src=\"https://www.tensorflow.org/images/colab_logo_32px.png\" />Run in Google Colab</a>\n",
        "  </td>\n",
        "  <td>\n",
        "    <a target=\"_blank\" href=\"https://github.com/gxxxg.ipynb\"><img src=\"https://www.tensorflow.org/images/GitHub-Mark-32px.png\" />View source on GitHub</a>\n",
        "  </td>\n",
        "</table>"
      ]
    },
    {
      "cell_type": "markdown",
      "metadata": {
        "id": "F8YVA_634OFk"
      },
      "source": [
        "TODO validar hiperlinks acima"
      ]
    },
    {
      "cell_type": "markdown",
      "metadata": {
        "id": "ZXmadTXYwITA"
      },
      "source": [
        "# Carga das causas e seus atributos de interrupção"
      ]
    },
    {
      "cell_type": "code",
      "metadata": {
        "id": "9qxJrTiKwPXL"
      },
      "source": [
        "from google.colab import files\n",
        "import subprocess"
      ],
      "execution_count": 2,
      "outputs": []
    },
    {
      "cell_type": "code",
      "metadata": {
        "id": "Uv7zp7R5xeKo"
      },
      "source": [
        "\n",
        "file = 'causas_interrupcoes.csv'\n",
        "proc=subprocess.Popen('ls ' + file, shell=True, stdout=subprocess.PIPE, )\n",
        "output=proc.communicate()[0]"
      ],
      "execution_count": 6,
      "outputs": []
    },
    {
      "cell_type": "code",
      "metadata": {
        "id": "Ok4c4P3XxjI2"
      },
      "source": [
        "if not output:\n",
        "  uploaded = files.upload()\n",
        "  for fn in uploaded.keys():\n",
        "    print('User uploaded file \"{name}\" with length {length} bytes'.format(\n",
        "        name=fn, length=len(uploaded[fn])))"
      ],
      "execution_count": 7,
      "outputs": []
    },
    {
      "cell_type": "code",
      "metadata": {
        "id": "GwEH2xt0xy1c"
      },
      "source": [
        "import pandas as pd"
      ],
      "execution_count": 8,
      "outputs": []
    },
    {
      "cell_type": "code",
      "metadata": {
        "id": "W0RggtlkxtXe",
        "outputId": "0e404e74-cd04-43aa-fbdd-842f6b57def1",
        "colab": {
          "base_uri": "https://localhost:8080/",
          "height": 288
        }
      },
      "source": [
        "df = pd.read_csv(file, encoding='latin-1', sep=',')\n",
        "df.describe()"
      ],
      "execution_count": 9,
      "outputs": [
        {
          "output_type": "execute_result",
          "data": {
            "text/html": [
              "<div>\n",
              "<style scoped>\n",
              "    .dataframe tbody tr th:only-of-type {\n",
              "        vertical-align: middle;\n",
              "    }\n",
              "\n",
              "    .dataframe tbody tr th {\n",
              "        vertical-align: top;\n",
              "    }\n",
              "\n",
              "    .dataframe thead th {\n",
              "        text-align: right;\n",
              "    }\n",
              "</style>\n",
              "<table border=\"1\" class=\"dataframe\">\n",
              "  <thead>\n",
              "    <tr style=\"text-align: right;\">\n",
              "      <th></th>\n",
              "      <th>5</th>\n",
              "      <th>3702334</th>\n",
              "      <th>468.23000000</th>\n",
              "      <th>6</th>\n",
              "      <th>1</th>\n",
              "      <th>0</th>\n",
              "      <th>24475</th>\n",
              "      <th>1.1</th>\n",
              "      <th>2</th>\n",
              "      <th>3</th>\n",
              "      <th>2.1</th>\n",
              "    </tr>\n",
              "  </thead>\n",
              "  <tbody>\n",
              "    <tr>\n",
              "      <th>count</th>\n",
              "      <td>1.277513e+06</td>\n",
              "      <td>1.277513e+06</td>\n",
              "      <td>1.277513e+06</td>\n",
              "      <td>1.277513e+06</td>\n",
              "      <td>1.277513e+06</td>\n",
              "      <td>1.277513e+06</td>\n",
              "      <td>1.277513e+06</td>\n",
              "      <td>1.277513e+06</td>\n",
              "      <td>1.277513e+06</td>\n",
              "      <td>1.277513e+06</td>\n",
              "      <td>1.277508e+06</td>\n",
              "    </tr>\n",
              "    <tr>\n",
              "      <th>mean</th>\n",
              "      <td>1.762853e+00</td>\n",
              "      <td>2.471141e+06</td>\n",
              "      <td>2.892757e+02</td>\n",
              "      <td>5.585402e+00</td>\n",
              "      <td>4.596261e+01</td>\n",
              "      <td>3.214329e+01</td>\n",
              "      <td>3.479913e+04</td>\n",
              "      <td>1.374034e+01</td>\n",
              "      <td>1.905968e+00</td>\n",
              "      <td>2.002123e+00</td>\n",
              "      <td>3.849185e+00</td>\n",
              "    </tr>\n",
              "    <tr>\n",
              "      <th>std</th>\n",
              "      <td>9.012786e-01</td>\n",
              "      <td>1.415986e+06</td>\n",
              "      <td>4.783872e+02</td>\n",
              "      <td>5.747176e-01</td>\n",
              "      <td>2.574743e+02</td>\n",
              "      <td>2.308015e+02</td>\n",
              "      <td>2.237764e+04</td>\n",
              "      <td>6.337388e+01</td>\n",
              "      <td>5.328591e-01</td>\n",
              "      <td>1.394876e+00</td>\n",
              "      <td>1.936859e+00</td>\n",
              "    </tr>\n",
              "    <tr>\n",
              "      <th>min</th>\n",
              "      <td>1.000000e+00</td>\n",
              "      <td>3.000000e+00</td>\n",
              "      <td>3.000000e+00</td>\n",
              "      <td>4.000000e+00</td>\n",
              "      <td>0.000000e+00</td>\n",
              "      <td>0.000000e+00</td>\n",
              "      <td>0.000000e+00</td>\n",
              "      <td>0.000000e+00</td>\n",
              "      <td>1.000000e+00</td>\n",
              "      <td>1.000000e+00</td>\n",
              "      <td>1.000000e+00</td>\n",
              "    </tr>\n",
              "    <tr>\n",
              "      <th>25%</th>\n",
              "      <td>1.000000e+00</td>\n",
              "      <td>1.322416e+06</td>\n",
              "      <td>7.300000e+01</td>\n",
              "      <td>5.000000e+00</td>\n",
              "      <td>1.000000e+00</td>\n",
              "      <td>0.000000e+00</td>\n",
              "      <td>1.687300e+04</td>\n",
              "      <td>1.000000e+00</td>\n",
              "      <td>2.000000e+00</td>\n",
              "      <td>1.000000e+00</td>\n",
              "      <td>2.000000e+00</td>\n",
              "    </tr>\n",
              "    <tr>\n",
              "      <th>50%</th>\n",
              "      <td>2.000000e+00</td>\n",
              "      <td>2.470954e+06</td>\n",
              "      <td>1.520000e+02</td>\n",
              "      <td>6.000000e+00</td>\n",
              "      <td>2.000000e+00</td>\n",
              "      <td>0.000000e+00</td>\n",
              "      <td>3.179400e+04</td>\n",
              "      <td>1.000000e+00</td>\n",
              "      <td>2.000000e+00</td>\n",
              "      <td>2.000000e+00</td>\n",
              "      <td>4.000000e+00</td>\n",
              "    </tr>\n",
              "    <tr>\n",
              "      <th>75%</th>\n",
              "      <td>2.000000e+00</td>\n",
              "      <td>3.722489e+06</td>\n",
              "      <td>2.920000e+02</td>\n",
              "      <td>6.000000e+00</td>\n",
              "      <td>1.800000e+01</td>\n",
              "      <td>0.000000e+00</td>\n",
              "      <td>4.620600e+04</td>\n",
              "      <td>5.000000e+00</td>\n",
              "      <td>2.000000e+00</td>\n",
              "      <td>2.000000e+00</td>\n",
              "      <td>6.000000e+00</td>\n",
              "    </tr>\n",
              "    <tr>\n",
              "      <th>max</th>\n",
              "      <td>5.000000e+00</td>\n",
              "      <td>4.926204e+06</td>\n",
              "      <td>3.044400e+04</td>\n",
              "      <td>7.000000e+00</td>\n",
              "      <td>2.722600e+04</td>\n",
              "      <td>2.678100e+04</td>\n",
              "      <td>1.188030e+05</td>\n",
              "      <td>3.314000e+03</td>\n",
              "      <td>7.000000e+00</td>\n",
              "      <td>6.000000e+00</td>\n",
              "      <td>7.000000e+00</td>\n",
              "    </tr>\n",
              "  </tbody>\n",
              "</table>\n",
              "</div>"
            ],
            "text/plain": [
              "                  5       3702334  ...             3           2.1\n",
              "count  1.277513e+06  1.277513e+06  ...  1.277513e+06  1.277508e+06\n",
              "mean   1.762853e+00  2.471141e+06  ...  2.002123e+00  3.849185e+00\n",
              "std    9.012786e-01  1.415986e+06  ...  1.394876e+00  1.936859e+00\n",
              "min    1.000000e+00  3.000000e+00  ...  1.000000e+00  1.000000e+00\n",
              "25%    1.000000e+00  1.322416e+06  ...  1.000000e+00  2.000000e+00\n",
              "50%    2.000000e+00  2.470954e+06  ...  2.000000e+00  4.000000e+00\n",
              "75%    2.000000e+00  3.722489e+06  ...  2.000000e+00  6.000000e+00\n",
              "max    5.000000e+00  4.926204e+06  ...  6.000000e+00  7.000000e+00\n",
              "\n",
              "[8 rows x 11 columns]"
            ]
          },
          "metadata": {
            "tags": []
          },
          "execution_count": 9
        }
      ]
    }
  ]
}