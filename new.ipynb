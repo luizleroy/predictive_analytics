{
  "nbformat": 4,
  "nbformat_minor": 0,
  "metadata": {
    "colab": {
      "name": "new.ipynb",
      "provenance": [],
      "toc_visible": true,
      "authorship_tag": "ABX9TyPOeBNapystREZ6Z7d4SDUg",
      "include_colab_link": true
    },
    "kernelspec": {
      "name": "python3",
      "display_name": "Python 3"
    }
  },
  "cells": [
    {
      "cell_type": "markdown",
      "metadata": {
        "id": "view-in-github",
        "colab_type": "text"
      },
      "source": [
        "<a href=\"https://colab.research.google.com/github/luizleroy/predictive_analytics/blob/develop/new.ipynb\" target=\"_parent\"><img src=\"https://colab.research.google.com/assets/colab-badge.svg\" alt=\"Open In Colab\"/></a>"
      ]
    },
    {
      "cell_type": "markdown",
      "metadata": {
        "id": "zCWzj5T6MOwc"
      },
      "source": [
        "## **Introduction to Predictive Analysis with Colab and Python**"
      ]
    },
    {
      "cell_type": "markdown",
      "metadata": {
        "id": "qJ6fyxc4M-D1"
      },
      "source": [
        "<table class=\"tfo-notebook-buttons\" align=\"left\">\n",
        "  <td>\n",
        "    <a target=\"_blank\" href=\"\"><img src=\"https://www.tensorflow.org/images/colab_logo_32px.png\" />Run in Google Colab</a>\n",
        "  </td>\n",
        "  <td>\n",
        "    <a target=\"_blank\" href=\"https://github.com/luizleroy/predictive_analytics/blob/develop/new.ipynb\"><img src=\"https://www.tensorflow.org/images/GitHub-Mark-32px.png\" />View source on GitHub</a>\n",
        "  </td>\n",
        "</table>"
      ]
    },
    {
      "cell_type": "code",
      "metadata": {
        "id": "RgIHGxxpYden"
      },
      "source": [
        ""
      ],
      "execution_count": null,
      "outputs": []
    },
    {
      "cell_type": "markdown",
      "metadata": {
        "id": "xVBCW0PsNHwY"
      },
      "source": [
        "Welcome to this Colab! I will get a quick introduction to the Analysis with Colab and Python to Predictive Analysis.\n",
        "\n",
        "Colab is a Python development environment that runs in the browser using Google Cloud."
      ]
    },
    {
      "cell_type": "markdown",
      "metadata": {
        "id": "Z_ZHkRmpOlTV"
      },
      "source": [
        "Agora, vamos na língua de Camões mesmo, hehehe. Pois, po principal objetivo aqui é criar insumos, 'pedaços' de código mesmo, para utilizar em projetos de P&D."
      ]
    },
    {
      "cell_type": "markdown",
      "metadata": {
        "id": "q6evfJ8aOnmY"
      },
      "source": [
        "# Imports"
      ]
    },
    {
      "cell_type": "code",
      "metadata": {
        "id": "mOZdX5rfbDZY",
        "outputId": "5d59c81a-1f9e-495d-8612-7351f926dada",
        "colab": {
          "base_uri": "https://localhost:8080/"
        }
      },
      "source": [
        "!pip install sklearn"
      ],
      "execution_count": 2,
      "outputs": [
        {
          "output_type": "stream",
          "text": [
            "Requirement already satisfied: sklearn in /usr/local/lib/python3.7/dist-packages (0.0)\n",
            "Requirement already satisfied: scikit-learn in /usr/local/lib/python3.7/dist-packages (from sklearn) (0.22.2.post1)\n",
            "Requirement already satisfied: joblib>=0.11 in /usr/local/lib/python3.7/dist-packages (from scikit-learn->sklearn) (1.0.1)\n",
            "Requirement already satisfied: numpy>=1.11.0 in /usr/local/lib/python3.7/dist-packages (from scikit-learn->sklearn) (1.19.5)\n",
            "Requirement already satisfied: scipy>=0.17.0 in /usr/local/lib/python3.7/dist-packages (from scikit-learn->sklearn) (1.4.1)\n"
          ],
          "name": "stdout"
        }
      ]
    },
    {
      "cell_type": "code",
      "metadata": {
        "id": "71tZsvMaOsH_"
      },
      "source": [
        "import numpy as np\n",
        "import pandas as pd\n",
        "import json\n",
        "from sklearn.ensemble import RandomForestClassifier\n",
        "from sklearn.model_selection import train_test_split\n",
        "from sklearn.preprocessing import StandardScaler"
      ],
      "execution_count": 4,
      "outputs": []
    },
    {
      "cell_type": "markdown",
      "metadata": {
        "id": "aOy5bMZ6O2pC"
      },
      "source": [
        "# Dados de entrada - Quarteto de Anscombe"
      ]
    },
    {
      "cell_type": "code",
      "metadata": {
        "id": "kMRHjbW-PG7C",
        "colab": {
          "base_uri": "https://localhost:8080/"
        },
        "outputId": "82051eb6-d76c-4f8a-a442-ec566058fc07"
      },
      "source": [
        "data = pd.read_json('sample_data/anscombe.json')\n",
        "input_data = data['X']\n",
        "output_data = data['Y']\n",
        "X1 = input_data[0:11]\n",
        "Y1 = output_data[0:11].values\n",
        "Y2 = output_data[11:22].values\n",
        "Y3 = output_data[22:33].values\n",
        "X_erro = input_data[33:44].values\n",
        "Y4_erro = output_data[33:44].values\n",
        "didi =     {\n",
        "            \"A\": 1.0,\n",
        "            \"B\": pd.Timestamp(\"20130102\"),\n",
        "            \"C\": range(4),\n",
        "            \"D\": np.array([3] * 4, dtype=\"int32\"),\n",
        "            \"E\": pd.Categorical([\"test\", \"train\", \"test\", \"train\"]),\n",
        "            \"F\": \"foo\",\n",
        "        }\n",
        "ascombe = {\n",
        "            \"X\": X1,\n",
        "            \"Y1\":Y1,\n",
        "            \"Y2\":Y2,\n",
        "            \"Y3\":Y3,\n",
        "            \"X_erro\":X_erro,\n",
        "            \"Y4_erro\":Y4_erro,\n",
        "}\n",
        "data_para_treinamento_ascombe = pd.DataFrame(ascombe)\n",
        "print(data_para_treinamento_ascombe)"
      ],
      "execution_count": 5,
      "outputs": [
        {
          "output_type": "stream",
          "text": [
            "     X     Y1    Y2     Y3  X_erro  Y4_erro\n",
            "0   10   8.04  9.14   7.46       8     6.58\n",
            "1    8   6.95  8.14   6.77       8     5.76\n",
            "2   13   7.58  8.74  12.74       8     7.71\n",
            "3    9   8.81  8.77   7.11       8     8.84\n",
            "4   11   8.33  9.26   7.81       8     8.47\n",
            "5   14   9.96  8.10   8.84       8     7.04\n",
            "6    6   7.24  6.13   6.08       8     5.25\n",
            "7    4   4.26  3.10   5.39      19    12.50\n",
            "8   12  10.84  9.13   8.15       8     5.56\n",
            "9    7   4.81  7.26   6.42       8     7.91\n",
            "10   5   5.68  4.74   5.73       8     6.89\n"
          ],
          "name": "stdout"
        }
      ]
    },
    {
      "cell_type": "markdown",
      "metadata": {
        "id": "ljP0UFkiWwUD"
      },
      "source": [
        "# Normalização"
      ]
    },
    {
      "cell_type": "code",
      "metadata": {
        "id": "1vgCzvaBXDQ8",
        "outputId": "abec59ed-d9e6-44dd-90c7-483498531f3b",
        "colab": {
          "base_uri": "https://localhost:8080/"
        }
      },
      "source": [
        "x = data_para_treinamento_ascombe.iloc[:,0]\n",
        "# print(x)\n",
        "y = data_para_treinamento_ascombe.iloc[:,1]\n",
        "\n",
        "# scaler = StandardScaler()\n",
        "# XX = scaler.fit_transform(x)\n"
      ],
      "execution_count": 15,
      "outputs": [
        {
          "output_type": "stream",
          "text": [
            "0     10.00\n",
            "1      8.00\n",
            "2     13.00\n",
            "3      9.00\n",
            "4     11.00\n",
            "5     14.00\n",
            "6      6.00\n",
            "7      4.00\n",
            "8     12.00\n",
            "9      7.00\n",
            "10     5.00\n",
            "0      8.04\n",
            "1      6.95\n",
            "2      7.58\n",
            "3      8.81\n",
            "4      8.33\n",
            "5      9.96\n",
            "6      7.24\n",
            "7      4.26\n",
            "8     10.84\n",
            "9      4.81\n",
            "10     5.68\n",
            "dtype: float64\n"
          ],
          "name": "stdout"
        }
      ]
    },
    {
      "cell_type": "markdown",
      "metadata": {
        "id": "f5bVPwVbO2fj"
      },
      "source": [
        "# Regressão Logística"
      ]
    },
    {
      "cell_type": "code",
      "metadata": {
        "id": "BBQAuhxNYgGV"
      },
      "source": [
        ""
      ],
      "execution_count": 12,
      "outputs": []
    }
  ]
}