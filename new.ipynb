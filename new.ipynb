{
  "nbformat": 4,
  "nbformat_minor": 0,
  "metadata": {
    "colab": {
      "name": "new.ipynb",
      "provenance": [],
      "authorship_tag": "ABX9TyNzxVXyVVXlGVQFy6QO3zcQ",
      "include_colab_link": true
    },
    "kernelspec": {
      "name": "python3",
      "display_name": "Python 3"
    }
  },
  "cells": [
    {
      "cell_type": "markdown",
      "metadata": {
        "id": "view-in-github",
        "colab_type": "text"
      },
      "source": [
        "<a href=\"https://colab.research.google.com/github/luizleroy/predictive_analytics/blob/develop/new.ipynb\" target=\"_parent\"><img src=\"https://colab.research.google.com/assets/colab-badge.svg\" alt=\"Open In Colab\"/></a>"
      ]
    },
    {
      "cell_type": "markdown",
      "metadata": {
        "id": "zCWzj5T6MOwc"
      },
      "source": [
        "## **Introduction to Predictive Analysis with Colab and Python**"
      ]
    },
    {
      "cell_type": "markdown",
      "metadata": {
        "id": "qJ6fyxc4M-D1"
      },
      "source": [
        "<table class=\"tfo-notebook-buttons\" align=\"left\">\n",
        "  <td>\n",
        "    <a target=\"_blank\" href=\"\"><img src=\"https://www.tensorflow.org/images/colab_logo_32px.png\" />Run in Google Colab</a>\n",
        "  </td>\n",
        "  <td>\n",
        "    <a target=\"_blank\" href=\"https://github.com/luizleroy/predictive_analytics/blob/develop/new.ipynb\"><img src=\"https://www.tensorflow.org/images/GitHub-Mark-32px.png\" />View source on GitHub</a>\n",
        "  </td>\n",
        "</table>"
      ]
    },
    {
      "cell_type": "code",
      "metadata": {
        "id": "RgIHGxxpYden"
      },
      "source": [
        ""
      ],
      "execution_count": null,
      "outputs": []
    },
    {
      "cell_type": "markdown",
      "metadata": {
        "id": "xVBCW0PsNHwY"
      },
      "source": [
        "Welcome to this Colab! I will get a quick introduction to the Analysis with Colab and Python to Predictive Analysis.\n",
        "\n",
        "Colab is a Python development environment that runs in the browser using Google Cloud."
      ]
    },
    {
      "cell_type": "code",
      "metadata": {
        "colab": {
          "base_uri": "https://localhost:8080/"
        },
        "id": "-bsxl0ekNb5c",
        "outputId": "10bc5770-0f44-4153-da04-2d8e5c219987"
      },
      "source": [
        "print(\"Agora, vamos na língua de Camões mesmo, hehehe. Pois, po principal objetivo aqui é criar insumos, 'pedaços' de código mesmo, para utilizar em projetos de P&D.\")"
      ],
      "execution_count": null,
      "outputs": [
        {
          "output_type": "stream",
          "text": [
            "Agora, vamos na língua de Camões mesmo, hehehe. Pois, po principal objetivo aqui é criar insumos, 'pedaços' de código mesmo, para utilizar em projetos de P&D.\n"
          ],
          "name": "stdout"
        }
      ]
    },
    {
      "cell_type": "markdown",
      "metadata": {
        "id": "q6evfJ8aOnmY"
      },
      "source": [
        "# Imports"
      ]
    },
    {
      "cell_type": "code",
      "metadata": {
        "id": "71tZsvMaOsH_"
      },
      "source": [
        "import numpy as np\n",
        "import pandas as pd\n",
        "import json\n"
      ],
      "execution_count": null,
      "outputs": []
    },
    {
      "cell_type": "markdown",
      "metadata": {
        "id": "aOy5bMZ6O2pC"
      },
      "source": [
        "# Code"
      ]
    },
    {
      "cell_type": "code",
      "metadata": {
        "id": "kMRHjbW-PG7C",
        "colab": {
          "base_uri": "https://localhost:8080/"
        },
        "outputId": "148b6f8b-7418-4f5d-85a8-2a0beb7652ee"
      },
      "source": [
        "data = pd.read_json('sample_data/anscombe.json')\n",
        "X = data['X']\n",
        "Y = data['Y']\n",
        "X1 = X[0:11]\n",
        "X2 = X[11:22]\n",
        "X3 = X[22:33]\n",
        "X4 = X[33:42]\n",
        "columns = ['I','II', 'III', 'IV']\n",
        "data_para_treinamento = pd.DataFrame(columns=columns)\n",
        "\n",
        "print(data_para_treinamento)"
      ],
      "execution_count": 46,
      "outputs": [
        {
          "output_type": "stream",
          "text": [
            "Empty DataFrame\n",
            "Columns: [um, dois, tres, quatro]\n",
            "Index: []\n"
          ],
          "name": "stdout"
        }
      ]
    },
    {
      "cell_type": "code",
      "metadata": {
        "id": "BBQAuhxNYgGV",
        "outputId": "723b0086-79d9-4aa6-cb01-04627d3b93c8",
        "colab": {
          "base_uri": "https://localhost:8080/"
        }
      },
      "source": [
        "print(\"transpondo...\")"
      ],
      "execution_count": 47,
      "outputs": [
        {
          "output_type": "stream",
          "text": [
            "transpondo...\n"
          ],
          "name": "stdout"
        }
      ]
    }
  ]
}