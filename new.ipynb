{
  "nbformat": 4,
  "nbformat_minor": 0,
  "metadata": {
    "colab": {
      "name": "new.ipynb",
      "provenance": [],
      "authorship_tag": "ABX9TyOd068svwg9Tnw0IsQ6zeRL",
      "include_colab_link": true
    },
    "kernelspec": {
      "name": "python3",
      "display_name": "Python 3"
    }
  },
  "cells": [
    {
      "cell_type": "markdown",
      "metadata": {
        "id": "view-in-github",
        "colab_type": "text"
      },
      "source": [
        "<a href=\"https://colab.research.google.com/github/luizleroy/predictive_analytics/blob/develop/new.ipynb\" target=\"_parent\"><img src=\"https://colab.research.google.com/assets/colab-badge.svg\" alt=\"Open In Colab\"/></a>"
      ]
    },
    {
      "cell_type": "markdown",
      "metadata": {
        "id": "zCWzj5T6MOwc"
      },
      "source": [
        "## **Introduction to Predictive Analysis with Colab and Python**"
      ]
    },
    {
      "cell_type": "markdown",
      "metadata": {
        "id": "qJ6fyxc4M-D1"
      },
      "source": [
        "<table class=\"tfo-notebook-buttons\" align=\"left\">\n",
        "  <td>\n",
        "    <a target=\"_blank\" href=\"\"><img src=\"https://www.tensorflow.org/images/colab_logo_32px.png\" />Run in Google Colab</a>\n",
        "  </td>\n",
        "  <td>\n",
        "    <a target=\"_blank\" href=\"https://github.com/luizleroy/predictive_analytics/blob/develop/new.ipynb\"><img src=\"https://www.tensorflow.org/images/GitHub-Mark-32px.png\" />View source on GitHub</a>\n",
        "  </td>\n",
        "</table>"
      ]
    },
    {
      "cell_type": "code",
      "metadata": {
        "id": "RgIHGxxpYden"
      },
      "source": [
        ""
      ],
      "execution_count": null,
      "outputs": []
    },
    {
      "cell_type": "markdown",
      "metadata": {
        "id": "xVBCW0PsNHwY"
      },
      "source": [
        "Welcome to this Colab! I will get a quick introduction to the Analysis with Colab and Python to Predictive Analysis.\n",
        "\n",
        "Colab is a Python development environment that runs in the browser using Google Cloud."
      ]
    },
    {
      "cell_type": "markdown",
      "metadata": {
        "id": "Z_ZHkRmpOlTV"
      },
      "source": [
        "Agora, vamos na língua de Camões mesmo, hehehe. Pois, po principal objetivo aqui é criar insumos, 'pedaços' de código mesmo, para utilizar em projetos de P&D."
      ]
    },
    {
      "cell_type": "markdown",
      "metadata": {
        "id": "TN_TePXGrCR2"
      },
      "source": [
        "**Algoritmos preditivos**\n",
        "\n",
        "A proposta via TI para este PD era entregar os seguintes grupos de algoritmos:\n",
        "\n",
        "\n",
        "\n",
        "*   Criar algoritmos situacionais de DEC e FEC, implantando relatórios na plataforma PTC referentes a dados que já existem em outras plataformas nas concecionários hoje.\n",
        "*   Implementar um grupo de algoritmos o preditivos, ou seja, no início do ano, sem informações futuras, devo rodar um cálculo, usando alguma metodologia que prevê como será o comportamento dos conjuntos no ano vindouro. Quais conjuntos ficarão acima da meta e quais ficarão dentro (abaixo) da meta. Os arquivos com as metas nos já temos, mas a distribuição destes dados foi modelada e vai ser um ponto de atenção pois foram criadas tabelas para cada mês do ano, para um horizonte de alguns anos, ou seja, para o mês de janeiro existe a tabela DEC_FEC_JAN_2021, então são 12 tabelas para cada ano. Para somar o DEC no ano, você tem que abrir 12 tabelas.\n",
        "\n",
        "Para o preditivo, as informações que temos são:\n",
        "1. Topologia da rede elétrica por alimentador e conjunto, onde sei quem é urbano e quem é rural.\n",
        "\n",
        "2. Dados de DEC FEC históricos , creio que com 3 anos de históricos eu consigo ver o comportamento dos conjuntos ao longo do ano (sazonalidades) e consigo fazer através de regressão linear, uma previsão se o conjunto vai manter, abaixar ou superar sua meta se nada for investido nele.\n",
        "\n",
        "3. Implementar usando metodologia análoga a anterior, a previsão para DEC FEC urbano e rural."
      ]
    },
    {
      "cell_type": "markdown",
      "metadata": {
        "id": "q6evfJ8aOnmY"
      },
      "source": [
        "# Imports"
      ]
    },
    {
      "cell_type": "code",
      "metadata": {
        "id": "mOZdX5rfbDZY"
      },
      "source": [
        "#!pip install sklearn"
      ],
      "execution_count": null,
      "outputs": []
    },
    {
      "cell_type": "code",
      "metadata": {
        "id": "71tZsvMaOsH_"
      },
      "source": [
        "import numpy as np\n",
        "import pandas as pd\n",
        "import json\n",
        "from sklearn.ensemble import RandomForestClassifier\n",
        "from sklearn.model_selection import train_test_split\n",
        "from sklearn.preprocessing import StandardScaler\n",
        "import seaborn as sn\n",
        "import matplotlib.pyplot as plt\n",
        "from sklearn.preprocessing import StandardScaler\n",
        "from sklearn.linear_model import LogisticRegression\n",
        "from sklearn.model_selection import train_test_split\n",
        "from sklearn import model_selection"
      ],
      "execution_count": null,
      "outputs": []
    },
    {
      "cell_type": "markdown",
      "metadata": {
        "id": "aOy5bMZ6O2pC"
      },
      "source": [
        "# Dados de entrada - Quarteto de Anscombe"
      ]
    },
    {
      "cell_type": "code",
      "metadata": {
        "id": "kMRHjbW-PG7C"
      },
      "source": [
        "data = pd.read_json('sample_data/anscombe.json')\n"
      ],
      "execution_count": null,
      "outputs": []
    },
    {
      "cell_type": "code",
      "metadata": {
        "colab": {
          "base_uri": "https://localhost:8080/",
          "height": 525
        },
        "id": "xGg62cCb2vIf",
        "outputId": "3aff9d9b-7af6-4758-d788-87677d5f766a"
      },
      "source": [
        "input_data = data['X']\n",
        "output_data = data['Y']\n",
        "X1 = input_data[0:11]\n",
        "Y1 = output_data[0:11].values\n",
        "Y2 = output_data[11:22].values\n",
        "Y3 = output_data[22:33].values\n",
        "\n",
        "X4 = input_data[33:44].values\n",
        "Y4 = output_data[33:44].values\n",
        "ascombe = {\n",
        "            \"Y\": X1,\n",
        "            \"X1\":Y1,\n",
        "            \"X2\":Y2,\n",
        "            \"X3\":Y3,\n",
        "            \"X4\":X4,\n",
        "            \"Y4\":Y4,\n",
        "}\n",
        "data_para_treinamento_ascombe = pd.DataFrame(ascombe)\n",
        "print(data_para_treinamento_ascombe)\n",
        "print('-----------------------------------------------------------------------')\n",
        "data_para_treinamento_ascombe.describe()"
      ],
      "execution_count": null,
      "outputs": [
        {
          "output_type": "stream",
          "text": [
            "     Y     X1    X2     X3  X4     Y4\n",
            "0   10   8.04  9.14   7.46   8   6.58\n",
            "1    8   6.95  8.14   6.77   8   5.76\n",
            "2   13   7.58  8.74  12.74   8   7.71\n",
            "3    9   8.81  8.77   7.11   8   8.84\n",
            "4   11   8.33  9.26   7.81   8   8.47\n",
            "5   14   9.96  8.10   8.84   8   7.04\n",
            "6    6   7.24  6.13   6.08   8   5.25\n",
            "7    4   4.26  3.10   5.39  19  12.50\n",
            "8   12  10.84  9.13   8.15   8   5.56\n",
            "9    7   4.81  7.26   6.42   8   7.91\n",
            "10   5   5.68  4.74   5.73   8   6.89\n",
            "-----------------------------------------------------------------------\n"
          ],
          "name": "stdout"
        },
        {
          "output_type": "execute_result",
          "data": {
            "text/html": [
              "<div>\n",
              "<style scoped>\n",
              "    .dataframe tbody tr th:only-of-type {\n",
              "        vertical-align: middle;\n",
              "    }\n",
              "\n",
              "    .dataframe tbody tr th {\n",
              "        vertical-align: top;\n",
              "    }\n",
              "\n",
              "    .dataframe thead th {\n",
              "        text-align: right;\n",
              "    }\n",
              "</style>\n",
              "<table border=\"1\" class=\"dataframe\">\n",
              "  <thead>\n",
              "    <tr style=\"text-align: right;\">\n",
              "      <th></th>\n",
              "      <th>Y</th>\n",
              "      <th>X1</th>\n",
              "      <th>X2</th>\n",
              "      <th>X3</th>\n",
              "      <th>X4</th>\n",
              "      <th>Y4</th>\n",
              "    </tr>\n",
              "  </thead>\n",
              "  <tbody>\n",
              "    <tr>\n",
              "      <th>count</th>\n",
              "      <td>11.000000</td>\n",
              "      <td>11.00000</td>\n",
              "      <td>11.000000</td>\n",
              "      <td>11.000000</td>\n",
              "      <td>11.000000</td>\n",
              "      <td>11.000000</td>\n",
              "    </tr>\n",
              "    <tr>\n",
              "      <th>mean</th>\n",
              "      <td>9.000000</td>\n",
              "      <td>7.50000</td>\n",
              "      <td>7.500909</td>\n",
              "      <td>7.500000</td>\n",
              "      <td>9.000000</td>\n",
              "      <td>7.500909</td>\n",
              "    </tr>\n",
              "    <tr>\n",
              "      <th>std</th>\n",
              "      <td>3.316625</td>\n",
              "      <td>2.03289</td>\n",
              "      <td>2.031657</td>\n",
              "      <td>2.030424</td>\n",
              "      <td>3.316625</td>\n",
              "      <td>2.030579</td>\n",
              "    </tr>\n",
              "    <tr>\n",
              "      <th>min</th>\n",
              "      <td>4.000000</td>\n",
              "      <td>4.26000</td>\n",
              "      <td>3.100000</td>\n",
              "      <td>5.390000</td>\n",
              "      <td>8.000000</td>\n",
              "      <td>5.250000</td>\n",
              "    </tr>\n",
              "    <tr>\n",
              "      <th>25%</th>\n",
              "      <td>6.500000</td>\n",
              "      <td>6.31500</td>\n",
              "      <td>6.695000</td>\n",
              "      <td>6.250000</td>\n",
              "      <td>8.000000</td>\n",
              "      <td>6.170000</td>\n",
              "    </tr>\n",
              "    <tr>\n",
              "      <th>50%</th>\n",
              "      <td>9.000000</td>\n",
              "      <td>7.58000</td>\n",
              "      <td>8.140000</td>\n",
              "      <td>7.110000</td>\n",
              "      <td>8.000000</td>\n",
              "      <td>7.040000</td>\n",
              "    </tr>\n",
              "    <tr>\n",
              "      <th>75%</th>\n",
              "      <td>11.500000</td>\n",
              "      <td>8.57000</td>\n",
              "      <td>8.950000</td>\n",
              "      <td>7.980000</td>\n",
              "      <td>8.000000</td>\n",
              "      <td>8.190000</td>\n",
              "    </tr>\n",
              "    <tr>\n",
              "      <th>max</th>\n",
              "      <td>14.000000</td>\n",
              "      <td>10.84000</td>\n",
              "      <td>9.260000</td>\n",
              "      <td>12.740000</td>\n",
              "      <td>19.000000</td>\n",
              "      <td>12.500000</td>\n",
              "    </tr>\n",
              "  </tbody>\n",
              "</table>\n",
              "</div>"
            ],
            "text/plain": [
              "               Y        X1         X2         X3         X4         Y4\n",
              "count  11.000000  11.00000  11.000000  11.000000  11.000000  11.000000\n",
              "mean    9.000000   7.50000   7.500909   7.500000   9.000000   7.500909\n",
              "std     3.316625   2.03289   2.031657   2.030424   3.316625   2.030579\n",
              "min     4.000000   4.26000   3.100000   5.390000   8.000000   5.250000\n",
              "25%     6.500000   6.31500   6.695000   6.250000   8.000000   6.170000\n",
              "50%     9.000000   7.58000   8.140000   7.110000   8.000000   7.040000\n",
              "75%    11.500000   8.57000   8.950000   7.980000   8.000000   8.190000\n",
              "max    14.000000  10.84000   9.260000  12.740000  19.000000  12.500000"
            ]
          },
          "metadata": {
            "tags": []
          },
          "execution_count": 4
        }
      ]
    },
    {
      "cell_type": "code",
      "metadata": {
        "id": "DUz0jM-Q3xAG"
      },
      "source": [
        ""
      ],
      "execution_count": null,
      "outputs": []
    },
    {
      "cell_type": "markdown",
      "metadata": {
        "id": "ljP0UFkiWwUD"
      },
      "source": [
        "# TODO_TEST Normalização (apenas para dados reais)"
      ]
    },
    {
      "cell_type": "code",
      "metadata": {
        "id": "1vgCzvaBXDQ8"
      },
      "source": [
        "# y = data_para_treinamento_ascombe.iloc[:,0]\n",
        "# x = data_para_treinamento_ascombe.iloc[:,1:6].values\n",
        "# print('X - input')\n",
        "# print(x)\n",
        "# print('Y - output')\n",
        "# print(y.values)\n",
        "\n",
        "# #TODO\n",
        "# scaler = StandardScaler()\n",
        "# fit = scaler.fit_transform(data_para_treinamento_ascombe)\n",
        "\n",
        "\n",
        "# df = pd.DataFrame(fit,columns=['X1','X2','X3','X4','X5', 'Y'])\n",
        "# corrMatrix = df.corr()\n",
        "# sn.heatmap(corrMatrix, annot=True)\n",
        "# plt.show()"
      ],
      "execution_count": null,
      "outputs": []
    },
    {
      "cell_type": "markdown",
      "metadata": {
        "id": "WEADe3J7ogtG"
      },
      "source": [
        "\n",
        "\n",
        "```\n",
        "# Isto está formatado como código\n",
        "```\n",
        "\n",
        "Matriz simétrica **R**,\n",
        "\\begin{equation} \\bf{R} = \\begin{bmatrix} \n",
        "r_{11} = 1 & r_{12} & r_{13} & · · · & r_{1p} \n",
        "\\\\ r_{21}& r_{22} = 1  & r_{23} & · · · & r_{2p} \n",
        "\\\\ r_{31} & r_{32} & r_{33}  = 1 & · · · & r_{3p} \n",
        "\\\\ · · · & · · · & · · · & · · · & · · ·\n",
        "\\\\ r_{p1} & r_{p2} & r_{p3} & · · · & r_{pp} = 1 \n",
        "\\end{bmatrix}, \\end{equation}\n",
        "\n",
        "onde cada valor acima é a correlação calculada (na fórmula abaixo) entre os vetores **x** de {1,2, ...,p},\n",
        "\n",
        "\\begin{equation*}\n",
        "  r_{jk} =\n",
        "  \\frac{ \\sum_{i=1}^{n}(x_{ij}-\\bar{x}_j)(x_{ik}-\\bar{x}_k) }{%\n",
        "        \\sqrt{\\sum_{i=1}^{n}(x_{ij}-\\bar{x}_j)^2}\\sqrt{\\sum_{i=1}^{n}(x_{ik}-\\bar{x}_k)^2}}.\n",
        "\\end{equation*}\n"
      ]
    },
    {
      "cell_type": "markdown",
      "metadata": {
        "id": "f5bVPwVbO2fj"
      },
      "source": [
        "# Regressão Logística"
      ]
    },
    {
      "cell_type": "markdown",
      "metadata": {
        "id": "MOFfWlENuDxh"
      },
      "source": [
        "O trabalho do cientista de dados é iterativo, teremos que avançar no processo de análise quando formos trabalhar com dados reais."
      ]
    },
    {
      "cell_type": "code",
      "metadata": {
        "id": "BBQAuhxNYgGV",
        "colab": {
          "base_uri": "https://localhost:8080/"
        },
        "outputId": "19faef4b-f0d9-47be-dfa1-0f5734f8c8dc"
      },
      "source": [
        "num_folds = 10\n",
        "x = data_para_treinamento_ascombe.iloc[:,1:4]\n",
        "print(x)\n",
        "num_instances = len(x)\n",
        "seed = 7\n",
        "y = data_para_treinamento_ascombe.iloc[:,0]\n",
        "print()\n",
        "print(y)\n",
        "# TODO preparar outros modelos...\n",
        "modelos = []\n",
        "modelos.append(('LR', LogisticRegression()))\n"
      ],
      "execution_count": null,
      "outputs": [
        {
          "output_type": "stream",
          "text": [
            "       X1    X2     X3\n",
            "0    8.04  9.14   7.46\n",
            "1    6.95  8.14   6.77\n",
            "2    7.58  8.74  12.74\n",
            "3    8.81  8.77   7.11\n",
            "4    8.33  9.26   7.81\n",
            "5    9.96  8.10   8.84\n",
            "6    7.24  6.13   6.08\n",
            "7    4.26  3.10   5.39\n",
            "8   10.84  9.13   8.15\n",
            "9    4.81  7.26   6.42\n",
            "10   5.68  4.74   5.73\n",
            "\n",
            "0     10\n",
            "1      8\n",
            "2     13\n",
            "3      9\n",
            "4     11\n",
            "5     14\n",
            "6      6\n",
            "7      4\n",
            "8     12\n",
            "9      7\n",
            "10     5\n",
            "Name: Y, dtype: int64\n"
          ],
          "name": "stdout"
        }
      ]
    },
    {
      "cell_type": "code",
      "metadata": {
        "colab": {
          "base_uri": "https://localhost:8080/"
        },
        "id": "dRr9Ar4jwJQY",
        "outputId": "57cc6eb0-2c45-4a01-a04b-75f7aac7686b"
      },
      "source": [
        "resultados = []\n",
        "nomes = []\n",
        "kfold = model_selection.KFold(n_splits=num_folds, random_state=seed)\n",
        "cv_results = model_selection.cross_val_score(LogisticRegression(),x,y,cv=kfold,scoring='accuracy')\n"
      ],
      "execution_count": null,
      "outputs": [
        {
          "output_type": "stream",
          "text": [
            "/usr/local/lib/python3.7/dist-packages/sklearn/model_selection/_split.py:296: FutureWarning: Setting a random_state has no effect since shuffle is False. This will raise an error in 0.24. You should leave random_state to its default (None), or set shuffle=True.\n",
            "  FutureWarning\n",
            "/usr/local/lib/python3.7/dist-packages/sklearn/linear_model/_logistic.py:940: ConvergenceWarning: lbfgs failed to converge (status=1):\n",
            "STOP: TOTAL NO. of ITERATIONS REACHED LIMIT.\n",
            "\n",
            "Increase the number of iterations (max_iter) or scale the data as shown in:\n",
            "    https://scikit-learn.org/stable/modules/preprocessing.html\n",
            "Please also refer to the documentation for alternative solver options:\n",
            "    https://scikit-learn.org/stable/modules/linear_model.html#logistic-regression\n",
            "  extra_warning_msg=_LOGISTIC_SOLVER_CONVERGENCE_MSG)\n",
            "/usr/local/lib/python3.7/dist-packages/sklearn/linear_model/_logistic.py:940: ConvergenceWarning: lbfgs failed to converge (status=1):\n",
            "STOP: TOTAL NO. of ITERATIONS REACHED LIMIT.\n",
            "\n",
            "Increase the number of iterations (max_iter) or scale the data as shown in:\n",
            "    https://scikit-learn.org/stable/modules/preprocessing.html\n",
            "Please also refer to the documentation for alternative solver options:\n",
            "    https://scikit-learn.org/stable/modules/linear_model.html#logistic-regression\n",
            "  extra_warning_msg=_LOGISTIC_SOLVER_CONVERGENCE_MSG)\n",
            "/usr/local/lib/python3.7/dist-packages/sklearn/linear_model/_logistic.py:940: ConvergenceWarning: lbfgs failed to converge (status=1):\n",
            "STOP: TOTAL NO. of ITERATIONS REACHED LIMIT.\n",
            "\n",
            "Increase the number of iterations (max_iter) or scale the data as shown in:\n",
            "    https://scikit-learn.org/stable/modules/preprocessing.html\n",
            "Please also refer to the documentation for alternative solver options:\n",
            "    https://scikit-learn.org/stable/modules/linear_model.html#logistic-regression\n",
            "  extra_warning_msg=_LOGISTIC_SOLVER_CONVERGENCE_MSG)\n",
            "/usr/local/lib/python3.7/dist-packages/sklearn/linear_model/_logistic.py:940: ConvergenceWarning: lbfgs failed to converge (status=1):\n",
            "STOP: TOTAL NO. of ITERATIONS REACHED LIMIT.\n",
            "\n",
            "Increase the number of iterations (max_iter) or scale the data as shown in:\n",
            "    https://scikit-learn.org/stable/modules/preprocessing.html\n",
            "Please also refer to the documentation for alternative solver options:\n",
            "    https://scikit-learn.org/stable/modules/linear_model.html#logistic-regression\n",
            "  extra_warning_msg=_LOGISTIC_SOLVER_CONVERGENCE_MSG)\n",
            "/usr/local/lib/python3.7/dist-packages/sklearn/linear_model/_logistic.py:940: ConvergenceWarning: lbfgs failed to converge (status=1):\n",
            "STOP: TOTAL NO. of ITERATIONS REACHED LIMIT.\n",
            "\n",
            "Increase the number of iterations (max_iter) or scale the data as shown in:\n",
            "    https://scikit-learn.org/stable/modules/preprocessing.html\n",
            "Please also refer to the documentation for alternative solver options:\n",
            "    https://scikit-learn.org/stable/modules/linear_model.html#logistic-regression\n",
            "  extra_warning_msg=_LOGISTIC_SOLVER_CONVERGENCE_MSG)\n",
            "/usr/local/lib/python3.7/dist-packages/sklearn/linear_model/_logistic.py:940: ConvergenceWarning: lbfgs failed to converge (status=1):\n",
            "STOP: TOTAL NO. of ITERATIONS REACHED LIMIT.\n",
            "\n",
            "Increase the number of iterations (max_iter) or scale the data as shown in:\n",
            "    https://scikit-learn.org/stable/modules/preprocessing.html\n",
            "Please also refer to the documentation for alternative solver options:\n",
            "    https://scikit-learn.org/stable/modules/linear_model.html#logistic-regression\n",
            "  extra_warning_msg=_LOGISTIC_SOLVER_CONVERGENCE_MSG)\n",
            "/usr/local/lib/python3.7/dist-packages/sklearn/linear_model/_logistic.py:940: ConvergenceWarning: lbfgs failed to converge (status=1):\n",
            "STOP: TOTAL NO. of ITERATIONS REACHED LIMIT.\n",
            "\n",
            "Increase the number of iterations (max_iter) or scale the data as shown in:\n",
            "    https://scikit-learn.org/stable/modules/preprocessing.html\n",
            "Please also refer to the documentation for alternative solver options:\n",
            "    https://scikit-learn.org/stable/modules/linear_model.html#logistic-regression\n",
            "  extra_warning_msg=_LOGISTIC_SOLVER_CONVERGENCE_MSG)\n"
          ],
          "name": "stderr"
        },
        {
          "output_type": "stream",
          "text": [
            "0.000000 (0.000000)\n"
          ],
          "name": "stdout"
        },
        {
          "output_type": "stream",
          "text": [
            "/usr/local/lib/python3.7/dist-packages/sklearn/linear_model/_logistic.py:940: ConvergenceWarning: lbfgs failed to converge (status=1):\n",
            "STOP: TOTAL NO. of ITERATIONS REACHED LIMIT.\n",
            "\n",
            "Increase the number of iterations (max_iter) or scale the data as shown in:\n",
            "    https://scikit-learn.org/stable/modules/preprocessing.html\n",
            "Please also refer to the documentation for alternative solver options:\n",
            "    https://scikit-learn.org/stable/modules/linear_model.html#logistic-regression\n",
            "  extra_warning_msg=_LOGISTIC_SOLVER_CONVERGENCE_MSG)\n",
            "/usr/local/lib/python3.7/dist-packages/sklearn/linear_model/_logistic.py:940: ConvergenceWarning: lbfgs failed to converge (status=1):\n",
            "STOP: TOTAL NO. of ITERATIONS REACHED LIMIT.\n",
            "\n",
            "Increase the number of iterations (max_iter) or scale the data as shown in:\n",
            "    https://scikit-learn.org/stable/modules/preprocessing.html\n",
            "Please also refer to the documentation for alternative solver options:\n",
            "    https://scikit-learn.org/stable/modules/linear_model.html#logistic-regression\n",
            "  extra_warning_msg=_LOGISTIC_SOLVER_CONVERGENCE_MSG)\n",
            "/usr/local/lib/python3.7/dist-packages/sklearn/linear_model/_logistic.py:940: ConvergenceWarning: lbfgs failed to converge (status=1):\n",
            "STOP: TOTAL NO. of ITERATIONS REACHED LIMIT.\n",
            "\n",
            "Increase the number of iterations (max_iter) or scale the data as shown in:\n",
            "    https://scikit-learn.org/stable/modules/preprocessing.html\n",
            "Please also refer to the documentation for alternative solver options:\n",
            "    https://scikit-learn.org/stable/modules/linear_model.html#logistic-regression\n",
            "  extra_warning_msg=_LOGISTIC_SOLVER_CONVERGENCE_MSG)\n"
          ],
          "name": "stderr"
        }
      ]
    },
    {
      "cell_type": "code",
      "metadata": {
        "colab": {
          "base_uri": "https://localhost:8080/"
        },
        "id": "0ukSA6pq1NMA",
        "outputId": "8035e325-0d42-4624-e7f3-5f35efae6d77"
      },
      "source": [
        "msg = \"%f (%f)\" % (cv_results.mean(), cv_results.std())\n",
        "print(msg)\n",
        "print(cv_results)"
      ],
      "execution_count": null,
      "outputs": [
        {
          "output_type": "stream",
          "text": [
            "0.000000 (0.000000)\n",
            "[0. 0. 0. 0. 0. 0. 0. 0. 0. 0.]\n"
          ],
          "name": "stdout"
        }
      ]
    }
  ]
}