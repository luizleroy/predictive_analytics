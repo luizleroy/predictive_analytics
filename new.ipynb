{
  "nbformat": 4,
  "nbformat_minor": 0,
  "metadata": {
    "colab": {
      "name": "new.ipynb",
      "provenance": [],
      "authorship_tag": "ABX9TyO5X3dvbpxp+nRJXJ+mSAq4",
      "include_colab_link": true
    },
    "kernelspec": {
      "name": "python3",
      "display_name": "Python 3"
    }
  },
  "cells": [
    {
      "cell_type": "markdown",
      "metadata": {
        "id": "view-in-github",
        "colab_type": "text"
      },
      "source": [
        "<a href=\"https://colab.research.google.com/github/luizleroy/predictive_analytics/blob/develop/new.ipynb\" target=\"_parent\"><img src=\"https://colab.research.google.com/assets/colab-badge.svg\" alt=\"Open In Colab\"/></a>"
      ]
    },
    {
      "cell_type": "markdown",
      "metadata": {
        "id": "zCWzj5T6MOwc"
      },
      "source": [
        "## **Introduction to Predictive Analysis with Colab and Python**"
      ]
    },
    {
      "cell_type": "markdown",
      "metadata": {
        "id": "qJ6fyxc4M-D1"
      },
      "source": [
        "<table class=\"tfo-notebook-buttons\" align=\"left\">\n",
        "  <td>\n",
        "    <a target=\"_blank\" href=\"https://inteligenciaativa.xyz\"><img src=\"https://www.tensorflow.org/images/colab_logo_32px.png\" />Run in Google Colab</a>\n",
        "  </td>\n",
        "  <td>\n",
        "    <a target=\"_blank\" href=\"https://inteligenciaativa.xyz\"><img src=\"https://www.tensorflow.org/images/GitHub-Mark-32px.png\" />View source on GitHub</a>\n",
        "  </td>\n",
        "</table>"
      ]
    },
    {
      "cell_type": "markdown",
      "metadata": {
        "id": "xVBCW0PsNHwY"
      },
      "source": [
        "Welcome to this Colab! I will get a quick introduction to the Analysis with Colab and Python to Predictive Analysis.\n",
        "\n",
        "Colab is a Python development environment that runs in the browser using Google Cloud."
      ]
    },
    {
      "cell_type": "code",
      "metadata": {
        "colab": {
          "base_uri": "https://localhost:8080/"
        },
        "id": "-bsxl0ekNb5c",
        "outputId": "10bc5770-0f44-4153-da04-2d8e5c219987"
      },
      "source": [
        "print(\"Agora, vamos na língua de Camões mesmo, hehehe. Pois, po principal objetivo aqui é criar insumos, 'pedaços' de código mesmo, para utilizar em projetos de P&D.\")"
      ],
      "execution_count": null,
      "outputs": [
        {
          "output_type": "stream",
          "text": [
            "Agora, vamos na língua de Camões mesmo, hehehe. Pois, po principal objetivo aqui é criar insumos, 'pedaços' de código mesmo, para utilizar em projetos de P&D.\n"
          ],
          "name": "stdout"
        }
      ]
    },
    {
      "cell_type": "markdown",
      "metadata": {
        "id": "q6evfJ8aOnmY"
      },
      "source": [
        "# Imports"
      ]
    },
    {
      "cell_type": "code",
      "metadata": {
        "id": "71tZsvMaOsH_"
      },
      "source": [
        "import numpy as np\n",
        "import pandas as pd\n",
        "import json\n"
      ],
      "execution_count": 16,
      "outputs": []
    },
    {
      "cell_type": "markdown",
      "metadata": {
        "id": "aOy5bMZ6O2pC"
      },
      "source": [
        "# Code"
      ]
    },
    {
      "cell_type": "code",
      "metadata": {
        "id": "kMRHjbW-PG7C",
        "outputId": "ae629399-78f5-403e-d8e8-2fa28b89fa45",
        "colab": {
          "base_uri": "https://localhost:8080/"
        }
      },
      "source": [
        "data = pd.read_json('sample_data/anscombe.json')\n",
        "X = data['X']\n",
        "Y = data['Y']\n",
        "X1 = X[0:11]\n",
        "X2 = X[11:22]\n",
        "X3 = X[22:33]\n",
        "X4 = X[33:42]\n",
        "print(X1)\n",
        "print(X2)\n",
        "print(X3)\n",
        "print(X4)"
      ],
      "execution_count": 33,
      "outputs": [
        {
          "output_type": "stream",
          "text": [
            "0     10\n",
            "1      8\n",
            "2     13\n",
            "3      9\n",
            "4     11\n",
            "5     14\n",
            "6      6\n",
            "7      4\n",
            "8     12\n",
            "9      7\n",
            "10     5\n",
            "Name: X, dtype: int64\n",
            "11    10\n",
            "12     8\n",
            "13    13\n",
            "14     9\n",
            "15    11\n",
            "16    14\n",
            "17     6\n",
            "18     4\n",
            "19    12\n",
            "20     7\n",
            "21     5\n",
            "Name: X, dtype: int64\n",
            "22    10\n",
            "23     8\n",
            "24    13\n",
            "25     9\n",
            "26    11\n",
            "27    14\n",
            "28     6\n",
            "29     4\n",
            "30    12\n",
            "31     7\n",
            "32     5\n",
            "Name: X, dtype: int64\n",
            "33     8\n",
            "34     8\n",
            "35     8\n",
            "36     8\n",
            "37     8\n",
            "38     8\n",
            "39     8\n",
            "40    19\n",
            "41     8\n",
            "Name: X, dtype: int64\n"
          ],
          "name": "stdout"
        }
      ]
    }
  ]
}