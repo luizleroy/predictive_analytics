{
  "nbformat": 4,
  "nbformat_minor": 0,
  "metadata": {
    "colab": {
      "name": "new.ipynb",
      "provenance": [],
      "authorship_tag": "ABX9TyPDhX5PnKfXQUIpIz7P30L4",
      "include_colab_link": true
    },
    "kernelspec": {
      "name": "python3",
      "display_name": "Python 3"
    }
  },
  "cells": [
    {
      "cell_type": "markdown",
      "metadata": {
        "id": "view-in-github",
        "colab_type": "text"
      },
      "source": [
        "<a href=\"https://colab.research.google.com/github/luizleroy/predictive_analytics/blob/develop/new.ipynb\" target=\"_parent\"><img src=\"https://colab.research.google.com/assets/colab-badge.svg\" alt=\"Open In Colab\"/></a>"
      ]
    },
    {
      "cell_type": "markdown",
      "metadata": {
        "id": "zCWzj5T6MOwc"
      },
      "source": [
        "## **Introduction to Predictive Analysis with Colab and Python**"
      ]
    },
    {
      "cell_type": "markdown",
      "metadata": {
        "id": "qJ6fyxc4M-D1"
      },
      "source": [
        "<table class=\"tfo-notebook-buttons\" align=\"left\">\n",
        "  <td>\n",
        "    <a target=\"_blank\" href=\"\"><img src=\"https://www.tensorflow.org/images/colab_logo_32px.png\" />Run in Google Colab</a>\n",
        "  </td>\n",
        "  <td>\n",
        "    <a target=\"_blank\" href=\"https://github.com/luizleroy/predictive_analytics/blob/develop/new.ipynb\"><img src=\"https://www.tensorflow.org/images/GitHub-Mark-32px.png\" />View source on GitHub</a>\n",
        "  </td>\n",
        "</table>"
      ]
    },
    {
      "cell_type": "markdown",
      "metadata": {
        "id": "xVBCW0PsNHwY"
      },
      "source": [
        "Welcome to this Colab! I will get a quick introduction to the Analysis with Colab and Python to Predictive Analysis.\n",
        "\n",
        "Colab is a Python development environment that runs in the browser using Google Cloud."
      ]
    },
    {
      "cell_type": "markdown",
      "metadata": {
        "id": "Z_ZHkRmpOlTV"
      },
      "source": [
        "Agora, vamos na língua de Camões mesmo, hehehe. Pois, o principal objetivo aqui é criar insumos, 'pedaços' de código mesmo, para utilizar em projetos de P&D."
      ]
    },
    {
      "cell_type": "markdown",
      "metadata": {
        "id": "TN_TePXGrCR2"
      },
      "source": [
        "**Algoritmos preditivos**\n",
        "\n",
        "A proposta nesta Pesquisa & Desenvolvimento (P&D) é entregar um sistema com os seguintes grupos de algoritmos:\n",
        "\n",
        "*   Os situacionais de DEC e FEC, implantando relatórios na plataforma PTC referentes a dados que já existem em outras plataformas nas concecionários hoje.\n",
        "*   Implementar um grupo de algoritmos preditivos, ou seja, no início do ano, sem informações futuras, devo rodar um cálculo, usando alguma(s) metodologia(s) que prevê(êm) como será o comportamento (DEC, FEC, índices regulamentados) dos circuitos elétricos - os conjuntos Aneel - no ano vindouro. Segue abaixo algumas questões reflexivas:\n",
        "\n",
        "*   Quais conjuntos ficarão acima da meta e quais ficarão dentro (abaixo) da meta?\n",
        "*   Como a meteorologia influencia nestes índices regulamentados? \n",
        "  1.   É possível emular um ano com baixa incidência de chuvas e / ou rajadas?\n",
        "  2.   E a temperatura, influencia em MG? Ou apenas em estados como o RJ, que possui alto índice de utilização de refrigeração forçada?\n",
        "\n",
        "Para o(s) Algoritmos Preditivos, as informações que temos, no momento, são:\n",
        "0. Tabelas de metas para DEC e FEC dos conjuntos (informação privada).\n",
        "1. Topologia da rede elétrica por alimentador e conjunto, onde sei quem é urbano e quem é rural (informação privada).\n",
        "2. Dados de DEC FEC históricos, creio que com 3 anos de históricos eu consigo ver o comportamento dos conjuntos ao longo do ano (sazonalidades) e consigo fazer através de regressão linear, uma previsão se o conjunto vai manter, abaixar ou superar sua meta se nada for investido nele... **Esta informação é pública, e encontra-se no site da Aneel [aqui](https://www.aneel.gov.br/indicadores-coletivos-de-continuidade)**\n",
        "3. **Meteorologia** para DEC e FEC: rajada + chuva podem aumentar a quantidade de interrupções (informação pública no site do INMET .gov).\n",
        "\n",
        "A premissa aqui é que, com os dados acima, os algoritmos preditivos aqui descritos e, o apoio dos parceiros do projeto com unidades computacionais, dicas e conselhos técnicos - possivelmente - conseguiremos implementar a previsão para DEC urbano e rural em toda região da CEMIG.\n",
        "\n",
        "Principais hipóteses de trabalho:\n",
        "1. Influência de manutenção, eficiente ou e principalmente ineficiente, em redes e mensuração de impacto nos índices regulamentados.\n",
        "2. Influência meteorológica, rajada e chuvas, nos índices regulamentados."
      ]
    },
    {
      "cell_type": "markdown",
      "metadata": {
        "id": "q6evfJ8aOnmY"
      },
      "source": [
        "# Imports"
      ]
    },
    {
      "cell_type": "code",
      "metadata": {
        "id": "mOZdX5rfbDZY"
      },
      "source": [
        "#!pip install sklearn"
      ],
      "execution_count": 1,
      "outputs": []
    },
    {
      "cell_type": "code",
      "metadata": {
        "id": "71tZsvMaOsH_"
      },
      "source": [
        "import numpy as np\n",
        "import pandas as pd\n",
        "import json\n",
        "from sklearn.ensemble import RandomForestClassifier\n",
        "from sklearn.model_selection import train_test_split\n",
        "from sklearn.preprocessing import StandardScaler\n",
        "import seaborn as sns\n",
        "import matplotlib.pyplot as plt\n",
        "\n",
        "from sklearn import svm\n",
        "\n",
        "from sklearn.preprocessing import StandardScaler\n",
        "from sklearn.linear_model import LogisticRegression\n",
        "from sklearn.discriminant_analysis import LinearDiscriminantAnalysis\n",
        "from sklearn.naive_bayes import GaussianNB\n",
        "from sklearn.neighbors import KNeighborsClassifier\n",
        "from sklearn.tree import DecisionTreeClassifier\n",
        "from sklearn.svm import SVC\n",
        "from sklearn.ensemble import AdaBoostClassifier\n",
        "from sklearn.ensemble import GradientBoostingClassifier\n",
        "from sklearn.ensemble import RandomForestClassifier\n",
        "\n",
        "from sklearn.ensemble import ExtraTreesClassifier\n",
        "\n",
        "from sklearn.model_selection import cross_val_score\n",
        "\n",
        "import xgboost as xgb\n",
        "\n",
        "from sklearn.model_selection import train_test_split\n",
        "from sklearn import model_selection\n",
        "\n",
        "from sklearn.model_selection import cross_val_score\n",
        "\n",
        "from sklearn import datasets, linear_model\n",
        "\n",
        "import random"
      ],
      "execution_count": 2,
      "outputs": []
    },
    {
      "cell_type": "markdown",
      "metadata": {
        "id": "gVgcgC4JS2ez"
      },
      "source": [
        "# Tratamentos de dados de entrada para treinamento e validação"
      ]
    },
    {
      "cell_type": "markdown",
      "metadata": {
        "id": "VHnydc4LS6jB"
      },
      "source": [
        "Será necessário tratar dados reais. Sempre é. Deixarei aqui um 'log' para possíveis tratamentos."
      ]
    },
    {
      "cell_type": "markdown",
      "metadata": {
        "id": "RB0FKsXlTBAf"
      },
      "source": [
        "Geralmente é considerado o percentual de 5% para o atributo ser considerado Raro, o que causaria overfitting. Em algumas situações onde exitem poucos atributos, pode ser que sejam úteis esses atributos raros. Porém, se a variável possuir muitos atributos, deve ser descartado.\n",
        "\n",
        "Formas de tratar os atributos raros:\n",
        "*   Substituir o atributo raro para o atributo mais frequente.\n",
        "*   Agrupar os atributos em uma nova categoria (exemplo: raro, outros).\n",
        "![d654.png](data:image/png;base64,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)\n",
        "\n",
        "FONTE: https://medium.com/@alegeorgelustosa/an%C3%A1lise-explorat%C3%B3ria-e-preditiva-do-dataset-titanic-em-python-fbd5e5bb7328#"
      ]
    },
    {
      "cell_type": "markdown",
      "metadata": {
        "id": "NtcO_luqTove"
      },
      "source": [
        "**TODO** inserir 'TODOS' tratamentos."
      ]
    },
    {
      "cell_type": "markdown",
      "metadata": {
        "id": "aOy5bMZ6O2pC"
      },
      "source": [
        "# [TEST01] Quarteto de Anscombe"
      ]
    },
    {
      "cell_type": "markdown",
      "metadata": {
        "id": "7U4_cPXmrlPS"
      },
      "source": [
        "Quarteto de Anscombe são quatro conjuntos de dados que têm estatísticas descritivas quase idênticas (como a média e a variância), mas que têm distribuições muito diferentes e aparências muito distintas quando exibidos graficamente. Cada conjunto de dados consiste de onze pontos (x,y). Eles foram construídos em 1973 pelo estatístico Francis Anscombe, com o objetivo de demonstrar tanto a importância de se visualizar os dados antes de analisá-los, quanto o efeito dos outliers e outras observações influentes nas propriedades estatísticas. Ele descreveu o artigo como tendo a finalidade de combater a impressão entre os estatísticos de que \"cálculos numéricos são exatos, mas gráficos são aproximados/grosseiros.\"[1]\n",
        "* Fonte: https://pt.wikipedia.org/wiki/Quarteto_de_Anscombe\n",
        "[1] Referência: https://www.tandfonline.com/doi/abs/10.1080/00031305.1973.10478966"
      ]
    },
    {
      "cell_type": "code",
      "metadata": {
        "id": "EELh7Zwge8zV"
      },
      "source": [
        "# !ls sample_data"
      ],
      "execution_count": 3,
      "outputs": []
    },
    {
      "cell_type": "code",
      "metadata": {
        "colab": {
          "base_uri": "https://localhost:8080/",
          "height": 525
        },
        "id": "xGg62cCb2vIf",
        "outputId": "0a2ffbe5-81be-44c3-a8e7-a39203396d15"
      },
      "source": [
        "data = pd.read_json('sample_data/anscombe.json')\n",
        "input_data = data['X']\n",
        "output_data = data['Y']\n",
        "X1 = input_data[0:11]\n",
        "Y1 = output_data[0:11].values\n",
        "Y2 = output_data[11:22].values\n",
        "Y3 = output_data[22:33].values\n",
        "\n",
        "X4 = input_data[33:44].values\n",
        "Y4 = output_data[33:44].values\n",
        "ascombe = {\n",
        "            \"X\": X1,\n",
        "            \"Y1\":Y1,\n",
        "            \"Y2\":Y2,\n",
        "            \"Y3\":Y3,\n",
        "            \"X4\":X4,\n",
        "            \"Y4\":Y4,\n",
        "}\n",
        "data_para_treinamento_ascombe = pd.DataFrame(ascombe)\n",
        "print(data_para_treinamento_ascombe)\n",
        "print('-----------------------------------------------------------------------')\n",
        "data_para_treinamento_ascombe.describe()"
      ],
      "execution_count": 4,
      "outputs": [
        {
          "output_type": "stream",
          "text": [
            "     X     Y1    Y2     Y3  X4     Y4\n",
            "0   10   8.04  9.14   7.46   8   6.58\n",
            "1    8   6.95  8.14   6.77   8   5.76\n",
            "2   13   7.58  8.74  12.74   8   7.71\n",
            "3    9   8.81  8.77   7.11   8   8.84\n",
            "4   11   8.33  9.26   7.81   8   8.47\n",
            "5   14   9.96  8.10   8.84   8   7.04\n",
            "6    6   7.24  6.13   6.08   8   5.25\n",
            "7    4   4.26  3.10   5.39  19  12.50\n",
            "8   12  10.84  9.13   8.15   8   5.56\n",
            "9    7   4.81  7.26   6.42   8   7.91\n",
            "10   5   5.68  4.74   5.73   8   6.89\n",
            "-----------------------------------------------------------------------\n"
          ],
          "name": "stdout"
        },
        {
          "output_type": "execute_result",
          "data": {
            "text/html": [
              "<div>\n",
              "<style scoped>\n",
              "    .dataframe tbody tr th:only-of-type {\n",
              "        vertical-align: middle;\n",
              "    }\n",
              "\n",
              "    .dataframe tbody tr th {\n",
              "        vertical-align: top;\n",
              "    }\n",
              "\n",
              "    .dataframe thead th {\n",
              "        text-align: right;\n",
              "    }\n",
              "</style>\n",
              "<table border=\"1\" class=\"dataframe\">\n",
              "  <thead>\n",
              "    <tr style=\"text-align: right;\">\n",
              "      <th></th>\n",
              "      <th>X</th>\n",
              "      <th>Y1</th>\n",
              "      <th>Y2</th>\n",
              "      <th>Y3</th>\n",
              "      <th>X4</th>\n",
              "      <th>Y4</th>\n",
              "    </tr>\n",
              "  </thead>\n",
              "  <tbody>\n",
              "    <tr>\n",
              "      <th>count</th>\n",
              "      <td>11.000000</td>\n",
              "      <td>11.00000</td>\n",
              "      <td>11.000000</td>\n",
              "      <td>11.000000</td>\n",
              "      <td>11.000000</td>\n",
              "      <td>11.000000</td>\n",
              "    </tr>\n",
              "    <tr>\n",
              "      <th>mean</th>\n",
              "      <td>9.000000</td>\n",
              "      <td>7.50000</td>\n",
              "      <td>7.500909</td>\n",
              "      <td>7.500000</td>\n",
              "      <td>9.000000</td>\n",
              "      <td>7.500909</td>\n",
              "    </tr>\n",
              "    <tr>\n",
              "      <th>std</th>\n",
              "      <td>3.316625</td>\n",
              "      <td>2.03289</td>\n",
              "      <td>2.031657</td>\n",
              "      <td>2.030424</td>\n",
              "      <td>3.316625</td>\n",
              "      <td>2.030579</td>\n",
              "    </tr>\n",
              "    <tr>\n",
              "      <th>min</th>\n",
              "      <td>4.000000</td>\n",
              "      <td>4.26000</td>\n",
              "      <td>3.100000</td>\n",
              "      <td>5.390000</td>\n",
              "      <td>8.000000</td>\n",
              "      <td>5.250000</td>\n",
              "    </tr>\n",
              "    <tr>\n",
              "      <th>25%</th>\n",
              "      <td>6.500000</td>\n",
              "      <td>6.31500</td>\n",
              "      <td>6.695000</td>\n",
              "      <td>6.250000</td>\n",
              "      <td>8.000000</td>\n",
              "      <td>6.170000</td>\n",
              "    </tr>\n",
              "    <tr>\n",
              "      <th>50%</th>\n",
              "      <td>9.000000</td>\n",
              "      <td>7.58000</td>\n",
              "      <td>8.140000</td>\n",
              "      <td>7.110000</td>\n",
              "      <td>8.000000</td>\n",
              "      <td>7.040000</td>\n",
              "    </tr>\n",
              "    <tr>\n",
              "      <th>75%</th>\n",
              "      <td>11.500000</td>\n",
              "      <td>8.57000</td>\n",
              "      <td>8.950000</td>\n",
              "      <td>7.980000</td>\n",
              "      <td>8.000000</td>\n",
              "      <td>8.190000</td>\n",
              "    </tr>\n",
              "    <tr>\n",
              "      <th>max</th>\n",
              "      <td>14.000000</td>\n",
              "      <td>10.84000</td>\n",
              "      <td>9.260000</td>\n",
              "      <td>12.740000</td>\n",
              "      <td>19.000000</td>\n",
              "      <td>12.500000</td>\n",
              "    </tr>\n",
              "  </tbody>\n",
              "</table>\n",
              "</div>"
            ],
            "text/plain": [
              "               X        Y1         Y2         Y3         X4         Y4\n",
              "count  11.000000  11.00000  11.000000  11.000000  11.000000  11.000000\n",
              "mean    9.000000   7.50000   7.500909   7.500000   9.000000   7.500909\n",
              "std     3.316625   2.03289   2.031657   2.030424   3.316625   2.030579\n",
              "min     4.000000   4.26000   3.100000   5.390000   8.000000   5.250000\n",
              "25%     6.500000   6.31500   6.695000   6.250000   8.000000   6.170000\n",
              "50%     9.000000   7.58000   8.140000   7.110000   8.000000   7.040000\n",
              "75%    11.500000   8.57000   8.950000   7.980000   8.000000   8.190000\n",
              "max    14.000000  10.84000   9.260000  12.740000  19.000000  12.500000"
            ]
          },
          "metadata": {
            "tags": []
          },
          "execution_count": 4
        }
      ]
    },
    {
      "cell_type": "code",
      "metadata": {
        "id": "DUz0jM-Q3xAG",
        "colab": {
          "base_uri": "https://localhost:8080/",
          "height": 355
        },
        "outputId": "145713cb-2dd4-4690-8e4a-63c3cebacc52"
      },
      "source": [
        "plt.figure(figsize=(11,5))\n",
        "ax = plt.axes()\n",
        "ax.plot(data_para_treinamento_ascombe.iloc[:,1],data_para_treinamento_ascombe.iloc[:,0],'o', color='black')\n",
        "ax.plot(data_para_treinamento_ascombe.iloc[:,2],data_para_treinamento_ascombe.iloc[:,0],'o', color='red')\n",
        "ax.plot(data_para_treinamento_ascombe.iloc[:,3],data_para_treinamento_ascombe.iloc[:,0],'o', color='blue')\n",
        "plt.title(\"Três primeiras funções do Quarteto de Anscombe [Inversa]\")"
      ],
      "execution_count": 5,
      "outputs": [
        {
          "output_type": "execute_result",
          "data": {
            "text/plain": [
              "Text(0.5, 1.0, 'Três primeiras funções do Quarteto de Anscombe [Inversa]')"
            ]
          },
          "metadata": {
            "tags": []
          },
          "execution_count": 5
        },
        {
          "output_type": "display_data",
          "data": {
            "image/png": "[encoded data removed]",
            "text/plain": [
              "<Figure size 792x360 with 1 Axes>"
            ]
          },
          "metadata": {
            "tags": [],
            "needs_background": "light"
          }
        }
      ]
    },
    {
      "cell_type": "code",
      "metadata": {
        "colab": {
          "base_uri": "https://localhost:8080/",
          "height": 355
        },
        "id": "VDTa3COjYS0M",
        "outputId": "9254fec3-5031-4bcf-cef6-ad195980979e"
      },
      "source": [
        "plt.figure(figsize=(11,5))\n",
        "ax = plt.axes()\n",
        "ax.plot(data_para_treinamento_ascombe.iloc[:,5],data_para_treinamento_ascombe.iloc[:,4],'x', color='black')\n",
        "plt.title(\"Grande Alavanca do Quarteto de Anscombe [Inversa]\")"
      ],
      "execution_count": 6,
      "outputs": [
        {
          "output_type": "execute_result",
          "data": {
            "text/plain": [
              "Text(0.5, 1.0, 'Grande Alavanca do Quarteto de Anscombe [Inversa]')"
            ]
          },
          "metadata": {
            "tags": []
          },
          "execution_count": 6
        },
        {
          "output_type": "display_data",
          "data": {
            "image/png": "[encoded data removed]",
            "text/plain": [
              "<Figure size 792x360 with 1 Axes>"
            ]
          },
          "metadata": {
            "tags": [],
            "needs_background": "light"
          }
        }
      ]
    },
    {
      "cell_type": "markdown",
      "metadata": {
        "id": "ljP0UFkiWwUD"
      },
      "source": [
        "**Correlação de Pearson**"
      ]
    },
    {
      "cell_type": "markdown",
      "metadata": {
        "id": "pkEoV8-sVrXG"
      },
      "source": [
        "Dentre as interpretações desta correlação, a que vejo como mais interessante é a geométrica. Para cada valor de *r* da matriz abaixo, interpretando o coeficiente como o cosseno do ângulo entre os dois vetores centrados, podemos ver que, para cada valor encontrado desse ângulo $\\alpha$ temos a seguinte faixa de valores para interpretação  (linear entre $0^{\\circ }$ e $180^{\\circ }$:\n",
        "\n",
        "\n",
        "\n",
        "1.   ${\\displaystyle \\alpha =0^{\\circ }}\n",
        "$:\n",
        "os dois vetores são colineares (paralelos);\n",
        "2.   ${\\displaystyle \\alpha =90^{\\circ }}\n",
        "$: os dois vetores são ortogonais; e\n",
        "3.   ${\\displaystyle \\alpha =180^{\\circ }}\n",
        "$: os dois vetores são colineares, mas em direções opostas.\n",
        "\n",
        "\n",
        "\n",
        "\n",
        "\n",
        "Fonte: [https://pt.wikipedia.org/wiki/Correla%C3%A7%C3%A3o](https://pt.wikipedia.org/wiki/Correla%C3%A7%C3%A3o)"
      ]
    },
    {
      "cell_type": "markdown",
      "metadata": {
        "id": "8P2FQZwu6Ex2"
      },
      "source": [
        "Matriz simétrica, de correlação, **R**:\n",
        "\\begin{equation} \\bf{R} = \\begin{bmatrix} \n",
        "r_{11} = 1 & r_{12} & r_{13} & · · · & r_{1p} \n",
        "\\\\ r_{21}& r_{22} = 1  & r_{23} & · · · & r_{2p} \n",
        "\\\\ r_{31} & r_{32} & r_{33}  = 1 & · · · & r_{3p} \n",
        "\\\\ · · · & · · · & · · · & · · · & · · ·\n",
        "\\\\ r_{p1} & r_{p2} & r_{p3} & · · · & r_{pp} = 1 \n",
        "\\end{bmatrix}, \\\\\\end{equation}\n",
        "\n",
        "onde cada valor acima é a correlação calculada (na fórmula abaixo) entre os vetores **x** de {1,2, ...,p},\n",
        "\n",
        "\\begin{equation*}\n",
        "  r_{jk} =\n",
        "  \\frac{ \\sum_{i=1}^{n}(x_{ij}-\\bar{x}_j)(x_{ik}-\\bar{x}_k) }{%\n",
        "        \\sqrt{\\sum_{i=1}^{n}(x_{ij}-\\bar{x}_j)^2}\\sqrt{\\sum_{i=1}^{n}(x_{ik}-\\bar{x}_k)^2}}.\n",
        "\\end{equation*}\n"
      ]
    },
    {
      "cell_type": "code",
      "metadata": {
        "id": "1vgCzvaBXDQ8",
        "colab": {
          "base_uri": "https://localhost:8080/",
          "height": 435
        },
        "outputId": "fdd472bd-de55-45ed-a8f1-65919f95b24f"
      },
      "source": [
        "df = pd.DataFrame(data_para_treinamento_ascombe,columns=['X','Y1','Y2', 'Y3', 'X4', 'Y4'])\n",
        "corrMatrix = df.corr()\n",
        "cmap = sns.diverging_palette(220,10,as_cmap=True)\n",
        "fig, ax = plt.subplots(figsize=(12,6))\n",
        "sns.heatmap(corrMatrix,annot=True,linewidths=0.5,ax=ax,fmt='.2f',cmap=cmap)\n",
        "fig.suptitle(\"ANSCOMBE\")"
      ],
      "execution_count": 7,
      "outputs": [
        {
          "output_type": "execute_result",
          "data": {
            "text/plain": [
              "Text(0.5, 0.98, 'ANSCOMBE')"
            ]
          },
          "metadata": {
            "tags": []
          },
          "execution_count": 7
        },
        {
          "output_type": "display_data",
          "data": {
            "image/png": "[encoded data removed]",
            "text/plain": [
              "<Figure size 864x432 with 2 Axes>"
            ]
          },
          "metadata": {
            "tags": [],
            "needs_background": "light"
          }
        }
      ]
    },
    {
      "cell_type": "markdown",
      "metadata": {
        "id": "f5bVPwVbO2fj"
      },
      "source": [
        "**Experimentos com algoritmo de predição SVC**"
      ]
    },
    {
      "cell_type": "markdown",
      "metadata": {
        "id": "qmIDUfE0ZK5M"
      },
      "source": [
        "A função f(Y1,Y2,Y3) = X, onde X são números naturais, foi criada com os dados dos três primeiros conjuntos de Anscombe. Invertendo abicissa e ordenada pois é necessário que a saída da classificação seja um padrão discreto (número natural).\n",
        "\n",
        "**Glossário:**\n",
        "\n",
        "Support Vector Machine (SVM)\n",
        "\n",
        "Um conceito na ciência da computação para um conjunto de métodos de aprendizado supervisionado que analisam os dados  e reconhecem padrões. Usado para classificação e análise de regressão (wikipédia).\n",
        "\n",
        "C-Support Vector Classification (SVC)"
      ]
    },
    {
      "cell_type": "markdown",
      "metadata": {
        "id": "ownuOoHV5rrF"
      },
      "source": [
        "Dados de entrada como inversa das três primeiras funções de Anscombe."
      ]
    },
    {
      "cell_type": "code",
      "metadata": {
        "id": "8xIJuu-IOUe9"
      },
      "source": [
        "Input = data_para_treinamento_ascombe.iloc[:,1:4]\n",
        "output = data_para_treinamento_ascombe.iloc[:,0].to_frame()"
      ],
      "execution_count": 8,
      "outputs": []
    },
    {
      "cell_type": "markdown",
      "metadata": {
        "id": "Qrw6w3hp6K2s"
      },
      "source": [
        "Teste inicial exploratório, com todos os registros e sem FIT."
      ]
    },
    {
      "cell_type": "code",
      "metadata": {
        "colab": {
          "base_uri": "https://localhost:8080/"
        },
        "id": "pNaXEcQJ7SeN",
        "outputId": "d25f317b-c502-43ed-fa7b-a2b4cfbae661"
      },
      "source": [
        "clf = SVC(gamma='auto')\n",
        "clf.fit(Input,np.ravel(output))\n",
        "print('results:')\n",
        "print('10 ->',clf.predict([[8.04,9.14,7.46]]))\n",
        "print('8 ->',clf.predict([[6.95,8.14,6.77]]))\n",
        "print('13 ->',clf.predict([[7.58,8.74,12.74]]))\n",
        "print('9 ->',clf.predict([[8.81,8.77,7.11]]))\n",
        "print('11 ->',clf.predict([[8.33,9.26,7.81]]))\n",
        "print('14 ->',clf.predict([[ 9.96,8.1,8.84]]))\n",
        "print('6 ->',clf.predict([[7.24,6.13,6.08]]))\n",
        "print('4 ->',clf.predict([[4.26,3.10,5.39]]))\n",
        "print('12 ->',clf.predict([[10.84,9.13,8.15]]))\n",
        "print('7 ->',clf.predict([[4.81,7.26,6.42]]))\n",
        "print('5 ->',clf.predict([[5.68,4.74,5.73]]))\n",
        "print('...')"
      ],
      "execution_count": 9,
      "outputs": [
        {
          "output_type": "stream",
          "text": [
            "results:\n",
            "10 -> [10]\n",
            "8 -> [8]\n",
            "13 -> [13]\n",
            "9 -> [9]\n",
            "11 -> [11]\n",
            "14 -> [14]\n",
            "6 -> [6]\n",
            "4 -> [4]\n",
            "12 -> [12]\n",
            "7 -> [7]\n",
            "5 -> [5]\n",
            "...\n"
          ],
          "name": "stdout"
        }
      ]
    },
    {
      "cell_type": "markdown",
      "metadata": {
        "id": "_Qx-5PjW-d-U"
      },
      "source": [
        "**Transformação**"
      ]
    },
    {
      "cell_type": "code",
      "metadata": {
        "id": "4ZJfhb1QB-du",
        "colab": {
          "base_uri": "https://localhost:8080/",
          "height": 761
        },
        "outputId": "ec8fac5f-5e01-48f8-c704-854a0bfba882"
      },
      "source": [
        "scaler = StandardScaler()\n",
        "#Input = Input.to_numpy().reshape(1,-1)\n",
        "Input = scaler.fit_transform(Input,y=output)\n",
        "Input = pd.DataFrame(Input,columns=['Y1','Y2', 'Y3'])\n",
        "print(\"Depois do FIT:\")\n",
        "print(Input)\n",
        "print(output)\n",
        "print('-----------------------------------------------------------------------')\n",
        "Input.describe()"
      ],
      "execution_count": 15,
      "outputs": [
        {
          "output_type": "stream",
          "text": [
            "Depois do FIT:\n",
            "          Y1        Y2        Y3\n",
            "0   0.278597  0.846153 -0.020662\n",
            "1  -0.283756  0.329920 -0.377079\n",
            "2   0.041274  0.639660  2.706705\n",
            "3   0.675855  0.655147 -0.201453\n",
            "4   0.428214  0.908101  0.160130\n",
            "5   1.269164  0.309271  0.692173\n",
            "6  -0.134139 -0.707709 -0.733496\n",
            "7  -1.671582 -2.271896 -1.089914\n",
            "8   1.723174  0.840991  0.335755\n",
            "9  -1.387825 -0.124365 -0.557871\n",
            "10 -0.938975 -1.425273 -0.914288\n",
            "     X\n",
            "0   10\n",
            "1    8\n",
            "2   13\n",
            "3    9\n",
            "4   11\n",
            "5   14\n",
            "6    6\n",
            "7    4\n",
            "8   12\n",
            "9    7\n",
            "10   5\n",
            "-----------------------------------------------------------------------\n"
          ],
          "name": "stdout"
        },
        {
          "output_type": "execute_result",
          "data": {
            "text/html": [
              "<div>\n",
              "<style scoped>\n",
              "    .dataframe tbody tr th:only-of-type {\n",
              "        vertical-align: middle;\n",
              "    }\n",
              "\n",
              "    .dataframe tbody tr th {\n",
              "        vertical-align: top;\n",
              "    }\n",
              "\n",
              "    .dataframe thead th {\n",
              "        text-align: right;\n",
              "    }\n",
              "</style>\n",
              "<table border=\"1\" class=\"dataframe\">\n",
              "  <thead>\n",
              "    <tr style=\"text-align: right;\">\n",
              "      <th></th>\n",
              "      <th>Y1</th>\n",
              "      <th>Y2</th>\n",
              "      <th>Y3</th>\n",
              "    </tr>\n",
              "  </thead>\n",
              "  <tbody>\n",
              "    <tr>\n",
              "      <th>count</th>\n",
              "      <td>1.100000e+01</td>\n",
              "      <td>1.100000e+01</td>\n",
              "      <td>1.100000e+01</td>\n",
              "    </tr>\n",
              "    <tr>\n",
              "      <th>mean</th>\n",
              "      <td>-2.018587e-17</td>\n",
              "      <td>2.018587e-17</td>\n",
              "      <td>-1.009294e-17</td>\n",
              "    </tr>\n",
              "    <tr>\n",
              "      <th>std</th>\n",
              "      <td>1.048809e+00</td>\n",
              "      <td>1.048809e+00</td>\n",
              "      <td>1.048809e+00</td>\n",
              "    </tr>\n",
              "    <tr>\n",
              "      <th>min</th>\n",
              "      <td>-1.671582e+00</td>\n",
              "      <td>-2.271896e+00</td>\n",
              "      <td>-1.089914e+00</td>\n",
              "    </tr>\n",
              "    <tr>\n",
              "      <th>25%</th>\n",
              "      <td>-6.113655e-01</td>\n",
              "      <td>-4.160371e-01</td>\n",
              "      <td>-6.456835e-01</td>\n",
              "    </tr>\n",
              "    <tr>\n",
              "      <th>50%</th>\n",
              "      <td>4.127362e-02</td>\n",
              "      <td>3.299200e-01</td>\n",
              "      <td>-2.014533e-01</td>\n",
              "    </tr>\n",
              "    <tr>\n",
              "      <th>75%</th>\n",
              "      <td>5.520346e-01</td>\n",
              "      <td>7.480690e-01</td>\n",
              "      <td>2.479425e-01</td>\n",
              "    </tr>\n",
              "    <tr>\n",
              "      <th>max</th>\n",
              "      <td>1.723174e+00</td>\n",
              "      <td>9.081013e-01</td>\n",
              "      <td>2.706705e+00</td>\n",
              "    </tr>\n",
              "  </tbody>\n",
              "</table>\n",
              "</div>"
            ],
            "text/plain": [
              "                 Y1            Y2            Y3\n",
              "count  1.100000e+01  1.100000e+01  1.100000e+01\n",
              "mean  -2.018587e-17  2.018587e-17 -1.009294e-17\n",
              "std    1.048809e+00  1.048809e+00  1.048809e+00\n",
              "min   -1.671582e+00 -2.271896e+00 -1.089914e+00\n",
              "25%   -6.113655e-01 -4.160371e-01 -6.456835e-01\n",
              "50%    4.127362e-02  3.299200e-01 -2.014533e-01\n",
              "75%    5.520346e-01  7.480690e-01  2.479425e-01\n",
              "max    1.723174e+00  9.081013e-01  2.706705e+00"
            ]
          },
          "metadata": {
            "tags": []
          },
          "execution_count": 15
        }
      ]
    },
    {
      "cell_type": "markdown",
      "metadata": {
        "id": "nuqVa9677BVQ"
      },
      "source": [
        "Aumentando entradas para mais de 100 registros..."
      ]
    },
    {
      "cell_type": "code",
      "metadata": {
        "id": "55T4YlPVK0Kr"
      },
      "source": [
        "frames = [Input, Input, Input, Input, Input, Input, Input, Input, Input, Input]\n",
        "Input = pd.concat(frames)\n",
        "frames = [output, output, output, output, output, output, output, output, output, output]\n",
        "output = pd.concat(frames)"
      ],
      "execution_count": 17,
      "outputs": []
    },
    {
      "cell_type": "code",
      "metadata": {
        "colab": {
          "base_uri": "https://localhost:8080/"
        },
        "id": "T0XCy_mocSQ-",
        "outputId": "303c4a5a-80ac-43b4-b1ad-22fe7e3eb8c2"
      },
      "source": [
        "num_folds = 10\n",
        "modelos = []\n",
        "\n",
        "modelos.append(('SVC', SVC()))\n",
        "modelos.append(('lasso', linear_model.Lasso()))\n",
        "modelos.append(('LR', LogisticRegression()))\n",
        "modelos.append(('LDA', LinearDiscriminantAnalysis()))\n",
        "modelos.append(('NB', GaussianNB()))\n",
        "modelos.append(('KNN', KNeighborsClassifier()))\n",
        "modelos.append(('CART', DecisionTreeClassifier()))\n",
        "modelos.append(('ADA', AdaBoostClassifier()))\n",
        "modelos.append(('GBM', GradientBoostingClassifier()))\n",
        "modelos.append(('RF', RandomForestClassifier()))\n",
        "modelos.append(('XGB', xgb.XGBClassifier()))\n",
        "\n",
        "resultados = []\n",
        "kfold = model_selection.KFold(n_splits=num_folds)\n",
        "print(kfold)\n",
        "for nome, modelo in modelos:\n",
        "  cv_results = model_selection.cross_val_score(modelo,Input,np.ravel(output),cv=kfold)\n",
        "  resultados.append([nome, cv_results])\n",
        "\n",
        "for nome, cv_results in resultados:\n",
        "  print(nome,\"%0.2f accuracy with a standard deviation of %0.2f\" % (cv_results.mean(), cv_results.std()))"
      ],
      "execution_count": 21,
      "outputs": [
        {
          "output_type": "stream",
          "text": [
            "KFold(n_splits=10, random_state=None, shuffle=False)\n",
            "SVC 1.00 accuracy with a standard deviation of 0.00\n",
            "lasso 0.78 accuracy with a standard deviation of 0.00\n",
            "LR 1.00 accuracy with a standard deviation of 0.00\n",
            "LDA 1.00 accuracy with a standard deviation of 0.00\n",
            "NB 1.00 accuracy with a standard deviation of 0.00\n",
            "KNN 1.00 accuracy with a standard deviation of 0.00\n",
            "CART 1.00 accuracy with a standard deviation of 0.00\n",
            "ADA 0.45 accuracy with a standard deviation of 0.00\n",
            "GBM 1.00 accuracy with a standard deviation of 0.00\n",
            "RF 1.00 accuracy with a standard deviation of 0.00\n",
            "XGB 1.00 accuracy with a standard deviation of 0.00\n"
          ],
          "name": "stdout"
        }
      ]
    },
    {
      "cell_type": "code",
      "metadata": {
        "id": "-XtBXAWvSCd1",
        "colab": {
          "base_uri": "https://localhost:8080/"
        },
        "outputId": "e9ccef4f-d1ca-4732-9815-685c5694f2de"
      },
      "source": [
        "print()\n",
        "for result in resultados:\n",
        "  print(result)"
      ],
      "execution_count": 22,
      "outputs": [
        {
          "output_type": "stream",
          "text": [
            "\n",
            "['SVC', array([1., 1., 1., 1., 1., 1., 1., 1., 1., 1.])]\n",
            "['lasso', array([0.78342478, 0.78342478, 0.78342478, 0.78342478, 0.78342478,\n",
            "       0.78342478, 0.78342478, 0.78342478, 0.78342478, 0.78342478])]\n",
            "['LR', array([1., 1., 1., 1., 1., 1., 1., 1., 1., 1.])]\n",
            "['LDA', array([1., 1., 1., 1., 1., 1., 1., 1., 1., 1.])]\n",
            "['NB', array([1., 1., 1., 1., 1., 1., 1., 1., 1., 1.])]\n",
            "['KNN', array([1., 1., 1., 1., 1., 1., 1., 1., 1., 1.])]\n",
            "['CART', array([1., 1., 1., 1., 1., 1., 1., 1., 1., 1.])]\n",
            "['ADA', array([0.45454545, 0.45454545, 0.45454545, 0.45454545, 0.45454545,\n",
            "       0.45454545, 0.45454545, 0.45454545, 0.45454545, 0.45454545])]\n",
            "['GBM', array([1., 1., 1., 1., 1., 1., 1., 1., 1., 1.])]\n",
            "['RF', array([1., 1., 1., 1., 1., 1., 1., 1., 1., 1.])]\n",
            "['XGB', array([1., 1., 1., 1., 1., 1., 1., 1., 1., 1.])]\n"
          ],
          "name": "stdout"
        }
      ]
    },
    {
      "cell_type": "markdown",
      "metadata": {
        "id": "GRk_2e2pcP0B"
      },
      "source": [
        "**Grande Alavanca submetida ao SVC**"
      ]
    },
    {
      "cell_type": "code",
      "metadata": {
        "id": "de1k5t7PcF9K"
      },
      "source": [
        "Input = data_para_treinamento_ascombe.iloc[:,5]\n",
        "output = data_para_treinamento_ascombe.iloc[:,4].to_frame()"
      ],
      "execution_count": 23,
      "outputs": []
    },
    {
      "cell_type": "code",
      "metadata": {
        "colab": {
          "base_uri": "https://localhost:8080/"
        },
        "id": "t5Ku310vcs3c",
        "outputId": "fb492cb6-a30a-4c54-9891-55b246213f93"
      },
      "source": [
        "clf = SVC(gamma='auto')\n",
        "clf.fit(Input.to_numpy().reshape(-1,1),np.ravel(output))\n",
        "print('results:')\n",
        "print('8 ->',clf.predict([[6.58]]))\n",
        "print('8 ->',clf.predict([[5.76]]))\n",
        "print('...')\n",
        "print('8 ->',clf.predict([[7.04]]))\n",
        "print('...')\n",
        "print('19 ->',clf.predict([[12.5]]))\n",
        "print('...')\n",
        "print('8 ->',clf.predict([[6.89]]))"
      ],
      "execution_count": 24,
      "outputs": [
        {
          "output_type": "stream",
          "text": [
            "results:\n",
            "8 -> [8]\n",
            "8 -> [8]\n",
            "...\n",
            "8 -> [8]\n",
            "...\n",
            "19 -> [19]\n",
            "...\n",
            "8 -> [8]\n"
          ],
          "name": "stdout"
        }
      ]
    },
    {
      "cell_type": "markdown",
      "metadata": {
        "id": "5J_ZRBtt6kKV"
      },
      "source": [
        "# [TEST02] Base de Dados de (Predição) Diabetes BDD"
      ]
    },
    {
      "cell_type": "markdown",
      "metadata": {
        "id": "KicAPz0mPWiV"
      },
      "source": [
        "**Análise e pré-processamento**"
      ]
    },
    {
      "cell_type": "code",
      "metadata": {
        "colab": {
          "base_uri": "https://localhost:8080/"
        },
        "id": "mLdXMcV8YC-B",
        "outputId": "52b55198-3a5d-44fb-880a-22131e4ae8d7"
      },
      "source": [
        "diabetes = datasets.load_diabetes()\n",
        "print(diabetes.DESCR)"
      ],
      "execution_count": 26,
      "outputs": [
        {
          "output_type": "stream",
          "text": [
            ".. _diabetes_dataset:\n",
            "\n",
            "Diabetes dataset\n",
            "----------------\n",
            "\n",
            "Ten baseline variables, age, sex, body mass index, average blood\n",
            "pressure, and six blood serum measurements were obtained for each of n =\n",
            "442 diabetes patients, as well as the response of interest, a\n",
            "quantitative measure of disease progression one year after baseline.\n",
            "\n",
            "**Data Set Characteristics:**\n",
            "\n",
            "  :Number of Instances: 442\n",
            "\n",
            "  :Number of Attributes: First 10 columns are numeric predictive values\n",
            "\n",
            "  :Target: Column 11 is a quantitative measure of disease progression one year after baseline\n",
            "\n",
            "  :Attribute Information:\n",
            "      - Age\n",
            "      - Sex\n",
            "      - Body mass index\n",
            "      - Average blood pressure\n",
            "      - S1\n",
            "      - S2\n",
            "      - S3\n",
            "      - S4\n",
            "      - S5\n",
            "      - S6\n",
            "\n",
            "Note: Each of these 10 feature variables have been mean centered and scaled by the standard deviation times `n_samples` (i.e. the sum of squares of each column totals 1).\n",
            "\n",
            "Source URL:\n",
            "https://www4.stat.ncsu.edu/~boos/var.select/diabetes.html\n",
            "\n",
            "For more information see:\n",
            "Bradley Efron, Trevor Hastie, Iain Johnstone and Robert Tibshirani (2004) \"Least Angle Regression,\" Annals of Statistics (with discussion), 407-499.\n",
            "(https://web.stanford.edu/~hastie/Papers/LARS/LeastAngle_2002.pdf)\n"
          ],
          "name": "stdout"
        }
      ]
    },
    {
      "cell_type": "code",
      "metadata": {
        "id": "7i7r2BVoQSlA"
      },
      "source": [
        "X = diabetes.data\n",
        "y = diabetes.target\n",
        "dfy = pd.DataFrame(y,columns=['y'])\n",
        "dfX = pd.DataFrame(X)"
      ],
      "execution_count": 29,
      "outputs": []
    },
    {
      "cell_type": "code",
      "metadata": {
        "id": "W5kXIhED-11L",
        "outputId": "e3c51a8c-cff1-4a06-bcff-97b2a9754cc5",
        "colab": {
          "base_uri": "https://localhost:8080/",
          "height": 288
        }
      },
      "source": [
        "frames = [dfX,dfy]\n",
        "df = pd.concat(frames,axis=1)\n",
        "df.describe()"
      ],
      "execution_count": 31,
      "outputs": [
        {
          "output_type": "execute_result",
          "data": {
            "text/html": [
              "<div>\n",
              "<style scoped>\n",
              "    .dataframe tbody tr th:only-of-type {\n",
              "        vertical-align: middle;\n",
              "    }\n",
              "\n",
              "    .dataframe tbody tr th {\n",
              "        vertical-align: top;\n",
              "    }\n",
              "\n",
              "    .dataframe thead th {\n",
              "        text-align: right;\n",
              "    }\n",
              "</style>\n",
              "<table border=\"1\" class=\"dataframe\">\n",
              "  <thead>\n",
              "    <tr style=\"text-align: right;\">\n",
              "      <th></th>\n",
              "      <th>0</th>\n",
              "      <th>1</th>\n",
              "      <th>2</th>\n",
              "      <th>3</th>\n",
              "      <th>4</th>\n",
              "      <th>5</th>\n",
              "      <th>6</th>\n",
              "      <th>7</th>\n",
              "      <th>8</th>\n",
              "      <th>9</th>\n",
              "      <th>y</th>\n",
              "    </tr>\n",
              "  </thead>\n",
              "  <tbody>\n",
              "    <tr>\n",
              "      <th>count</th>\n",
              "      <td>4.420000e+02</td>\n",
              "      <td>4.420000e+02</td>\n",
              "      <td>4.420000e+02</td>\n",
              "      <td>4.420000e+02</td>\n",
              "      <td>4.420000e+02</td>\n",
              "      <td>4.420000e+02</td>\n",
              "      <td>4.420000e+02</td>\n",
              "      <td>4.420000e+02</td>\n",
              "      <td>4.420000e+02</td>\n",
              "      <td>4.420000e+02</td>\n",
              "      <td>442.000000</td>\n",
              "    </tr>\n",
              "    <tr>\n",
              "      <th>mean</th>\n",
              "      <td>-3.634285e-16</td>\n",
              "      <td>1.308343e-16</td>\n",
              "      <td>-8.045349e-16</td>\n",
              "      <td>1.281655e-16</td>\n",
              "      <td>-8.835316e-17</td>\n",
              "      <td>1.327024e-16</td>\n",
              "      <td>-4.574646e-16</td>\n",
              "      <td>3.777301e-16</td>\n",
              "      <td>-3.830854e-16</td>\n",
              "      <td>-3.412882e-16</td>\n",
              "      <td>152.133484</td>\n",
              "    </tr>\n",
              "    <tr>\n",
              "      <th>std</th>\n",
              "      <td>4.761905e-02</td>\n",
              "      <td>4.761905e-02</td>\n",
              "      <td>4.761905e-02</td>\n",
              "      <td>4.761905e-02</td>\n",
              "      <td>4.761905e-02</td>\n",
              "      <td>4.761905e-02</td>\n",
              "      <td>4.761905e-02</td>\n",
              "      <td>4.761905e-02</td>\n",
              "      <td>4.761905e-02</td>\n",
              "      <td>4.761905e-02</td>\n",
              "      <td>77.093005</td>\n",
              "    </tr>\n",
              "    <tr>\n",
              "      <th>min</th>\n",
              "      <td>-1.072256e-01</td>\n",
              "      <td>-4.464164e-02</td>\n",
              "      <td>-9.027530e-02</td>\n",
              "      <td>-1.123996e-01</td>\n",
              "      <td>-1.267807e-01</td>\n",
              "      <td>-1.156131e-01</td>\n",
              "      <td>-1.023071e-01</td>\n",
              "      <td>-7.639450e-02</td>\n",
              "      <td>-1.260974e-01</td>\n",
              "      <td>-1.377672e-01</td>\n",
              "      <td>25.000000</td>\n",
              "    </tr>\n",
              "    <tr>\n",
              "      <th>25%</th>\n",
              "      <td>-3.729927e-02</td>\n",
              "      <td>-4.464164e-02</td>\n",
              "      <td>-3.422907e-02</td>\n",
              "      <td>-3.665645e-02</td>\n",
              "      <td>-3.424784e-02</td>\n",
              "      <td>-3.035840e-02</td>\n",
              "      <td>-3.511716e-02</td>\n",
              "      <td>-3.949338e-02</td>\n",
              "      <td>-3.324879e-02</td>\n",
              "      <td>-3.317903e-02</td>\n",
              "      <td>87.000000</td>\n",
              "    </tr>\n",
              "    <tr>\n",
              "      <th>50%</th>\n",
              "      <td>5.383060e-03</td>\n",
              "      <td>-4.464164e-02</td>\n",
              "      <td>-7.283766e-03</td>\n",
              "      <td>-5.670611e-03</td>\n",
              "      <td>-4.320866e-03</td>\n",
              "      <td>-3.819065e-03</td>\n",
              "      <td>-6.584468e-03</td>\n",
              "      <td>-2.592262e-03</td>\n",
              "      <td>-1.947634e-03</td>\n",
              "      <td>-1.077698e-03</td>\n",
              "      <td>140.500000</td>\n",
              "    </tr>\n",
              "    <tr>\n",
              "      <th>75%</th>\n",
              "      <td>3.807591e-02</td>\n",
              "      <td>5.068012e-02</td>\n",
              "      <td>3.124802e-02</td>\n",
              "      <td>3.564384e-02</td>\n",
              "      <td>2.835801e-02</td>\n",
              "      <td>2.984439e-02</td>\n",
              "      <td>2.931150e-02</td>\n",
              "      <td>3.430886e-02</td>\n",
              "      <td>3.243323e-02</td>\n",
              "      <td>2.791705e-02</td>\n",
              "      <td>211.500000</td>\n",
              "    </tr>\n",
              "    <tr>\n",
              "      <th>max</th>\n",
              "      <td>1.107267e-01</td>\n",
              "      <td>5.068012e-02</td>\n",
              "      <td>1.705552e-01</td>\n",
              "      <td>1.320442e-01</td>\n",
              "      <td>1.539137e-01</td>\n",
              "      <td>1.987880e-01</td>\n",
              "      <td>1.811791e-01</td>\n",
              "      <td>1.852344e-01</td>\n",
              "      <td>1.335990e-01</td>\n",
              "      <td>1.356118e-01</td>\n",
              "      <td>346.000000</td>\n",
              "    </tr>\n",
              "  </tbody>\n",
              "</table>\n",
              "</div>"
            ],
            "text/plain": [
              "                  0             1  ...             9           y\n",
              "count  4.420000e+02  4.420000e+02  ...  4.420000e+02  442.000000\n",
              "mean  -3.634285e-16  1.308343e-16  ... -3.412882e-16  152.133484\n",
              "std    4.761905e-02  4.761905e-02  ...  4.761905e-02   77.093005\n",
              "min   -1.072256e-01 -4.464164e-02  ... -1.377672e-01   25.000000\n",
              "25%   -3.729927e-02 -4.464164e-02  ... -3.317903e-02   87.000000\n",
              "50%    5.383060e-03 -4.464164e-02  ... -1.077698e-03  140.500000\n",
              "75%    3.807591e-02  5.068012e-02  ...  2.791705e-02  211.500000\n",
              "max    1.107267e-01  5.068012e-02  ...  1.356118e-01  346.000000\n",
              "\n",
              "[8 rows x 11 columns]"
            ]
          },
          "metadata": {
            "tags": []
          },
          "execution_count": 31
        }
      ]
    },
    {
      "cell_type": "code",
      "metadata": {
        "id": "vwql9BsE-2P-",
        "outputId": "076ac2b3-61f0-4781-d4cc-1b42090674ca",
        "colab": {
          "base_uri": "https://localhost:8080/",
          "height": 396
        }
      },
      "source": [
        "corrMatrix = df.corr()\n",
        "cmap = sns.diverging_palette(220,10,as_cmap=True)\n",
        "fig, ax = plt.subplots(figsize=(12,6))\n",
        "sns.heatmap(corrMatrix,annot=True,linewidths=0.5,ax=ax,fmt='.2f',cmap=cmap)"
      ],
      "execution_count": 28,
      "outputs": [
        {
          "output_type": "execute_result",
          "data": {
            "text/plain": [
              "<matplotlib.axes._subplots.AxesSubplot at 0x7f42120cbf10>"
            ]
          },
          "metadata": {
            "tags": []
          },
          "execution_count": 28
        },
        {
          "output_type": "display_data",
          "data": {
            "image/png": "[encoded data removed]",
            "text/plain": [
              "<Figure size 864x432 with 2 Axes>"
            ]
          },
          "metadata": {
            "tags": [],
            "needs_background": "light"
          }
        }
      ]
    },
    {
      "cell_type": "markdown",
      "metadata": {
        "id": "Z-JBbrslPaVJ"
      },
      "source": [
        "**Validação exploratória para predição da BDD**"
      ]
    },
    {
      "cell_type": "code",
      "metadata": {
        "id": "EGRo6WPXeowp"
      },
      "source": [
        "X = diabetes.data[:150] #teste manual\n",
        "y = diabetes.target[:150]"
      ],
      "execution_count": 33,
      "outputs": []
    },
    {
      "cell_type": "code",
      "metadata": {
        "id": "9hd12EsqflXD",
        "colab": {
          "base_uri": "https://localhost:8080/"
        },
        "outputId": "c970a522-edf8-444c-cb68-8854aad5712d"
      },
      "source": [
        "clf = SVC(gamma='auto')\n",
        "clf.fit(X,y)\n",
        "print('--- Análise dos dados de entrada: ---')\n",
        "data_aleatorio = random.randint(0,len(diabetes.target))\n",
        "print(diabetes.data[data_aleatorio])\n",
        "print('target:',diabetes.target[data_aleatorio])\n",
        "print('--- Análise de um resultado, ponto aleatório: ---')\n",
        "target = clf.predict(diabetes.data[data_aleatorio].reshape(1,-1))\n",
        "print('X[',data_aleatorio,']-> ',target)\n",
        "print('Erro:',100*(target - diabetes.target[data_aleatorio])/diabetes.target[data_aleatorio],'%')"
      ],
      "execution_count": 34,
      "outputs": [
        {
          "output_type": "stream",
          "text": [
            "--- Análise dos dados de entrada: ---\n",
            "[-0.00914709  0.05068012  0.00133873 -0.00222774  0.07961226  0.07008397\n",
            "  0.03391355 -0.00259226  0.02671426  0.08176444]\n",
            "target: 142.0\n",
            "--- Análise de um resultado, ponto aleatório: ---\n",
            "X[ 309 ]->  [128.]\n",
            "Erro: [-9.85915493] %\n"
          ],
          "name": "stdout"
        }
      ]
    },
    {
      "cell_type": "code",
      "metadata": {
        "colab": {
          "base_uri": "https://localhost:8080/"
        },
        "id": "r77O_xHe83qR",
        "outputId": "0a9b7e5a-9546-4282-b008-991bdc8e7a92"
      },
      "source": [
        "clf = linear_model.Lasso(alpha=0.1)\n",
        "clf.fit(X,y)\n",
        "print('--- Análise dos dados de entrada: ---')\n",
        "data_aleatorio = random.randint(0,len(diabetes.target))\n",
        "print(diabetes.data[data_aleatorio])\n",
        "print('target:',diabetes.target[data_aleatorio])\n",
        "print('--- Análise de um resultado, ponto aleatório: ---')\n",
        "target = clf.predict(diabetes.data[data_aleatorio].reshape(1,-1))\n",
        "print('X[',data_aleatorio,']-> ',target)\n",
        "print('Erro:',100*(target - diabetes.target[data_aleatorio])/diabetes.target[data_aleatorio],'%')"
      ],
      "execution_count": 35,
      "outputs": [
        {
          "output_type": "stream",
          "text": [
            "--- Análise dos dados de entrada: ---\n",
            "[-0.07453279 -0.04464164 -0.02345095 -0.00567061 -0.0208323  -0.01415296\n",
            "  0.01550536 -0.03949338 -0.03845911 -0.03007245]\n",
            "target: 144.0\n",
            "--- Análise de um resultado, ponto aleatório: ---\n",
            "X[ 312 ]->  [129.62536869]\n",
            "Erro: [-9.98238285] %\n"
          ],
          "name": "stdout"
        }
      ]
    },
    {
      "cell_type": "markdown",
      "metadata": {
        "id": "oy1l9Hs4CMxW"
      },
      "source": [
        "**Análise formal de resultados para vários algoritmos**"
      ]
    },
    {
      "cell_type": "code",
      "metadata": {
        "id": "uwJTEI-pCSOB"
      },
      "source": [
        "X = diabetes.data\n",
        "y = diabetes.target\n",
        "\n",
        "# scaler = StandardScaler()\n",
        "# fit = scaler.fit_transform(data_para_treinamento_ascombe)\n",
        "# dfn = pd.DataFrame(fit,columns=['X','Y1','Y2', 'Y3', 'X4', 'Y4'])"
      ],
      "execution_count": 36,
      "outputs": []
    },
    {
      "cell_type": "code",
      "metadata": {
        "id": "BBQAuhxNYgGV"
      },
      "source": [
        "num_folds = 5\n",
        "num_instances=len(X)\n",
        "#seed = 7 TO random_state=seed\n",
        "modelos = []\n",
        "\n",
        "modelos.append(('SVC', SVC()))\n",
        "modelos.append(('lasso', linear_model.Lasso()))\n",
        "modelos.append(('LR', LogisticRegression()))\n",
        "modelos.append(('LDA', LinearDiscriminantAnalysis()))\n",
        "modelos.append(('NB', GaussianNB()))\n",
        "modelos.append(('KNN', KNeighborsClassifier()))\n",
        "modelos.append(('CART', DecisionTreeClassifier()))\n",
        "modelos.append(('ADA', AdaBoostClassifier()))\n",
        "modelos.append(('GBM', GradientBoostingClassifier()))\n",
        "modelos.append(('RF', RandomForestClassifier()))\n",
        "modelos.append(('XGB', xgb.XGBClassifier()))\n",
        "\n",
        "resultados = []\n",
        "for nome, modelo in modelos:\n",
        "  kfold = model_selection.KFold(n_splits=num_folds, shuffle=True)\n",
        "  cv_results = model_selection.cross_val_score(modelo,X,y,cv=kfold)\n",
        "  resultados.append([nome, cv_results])\n"
      ],
      "execution_count": 37,
      "outputs": []
    },
    {
      "cell_type": "code",
      "metadata": {
        "id": "HvcKQx3yxFWz",
        "colab": {
          "base_uri": "https://localhost:8080/"
        },
        "outputId": "3de930bd-ac00-411a-f4fa-cb380c5dbb4f"
      },
      "source": [
        "for nome, cv_results in resultados:\n",
        "  print(nome,\"%0.2f accuracy with a standard deviation of %0.2f\" % (cv_results.mean(), cv_results.std()))\n",
        "print()\n",
        "# for result in resultados:\n",
        "#   print(result)"
      ],
      "execution_count": null,
      "outputs": [
        {
          "output_type": "stream",
          "text": [
            "SVC 0.00 accuracy with a standard deviation of 0.01\n",
            "lasso 0.33 accuracy with a standard deviation of 0.05\n",
            "LR 0.00 accuracy with a standard deviation of 0.00\n",
            "LDA 0.01 accuracy with a standard deviation of 0.01\n",
            "NB 0.00 accuracy with a standard deviation of 0.01\n",
            "KNN 0.00 accuracy with a standard deviation of 0.00\n",
            "CART 0.00 accuracy with a standard deviation of 0.01\n",
            "ADA 0.00 accuracy with a standard deviation of 0.00\n",
            "GBM 0.01 accuracy with a standard deviation of 0.01\n",
            "RF 0.01 accuracy with a standard deviation of 0.01\n",
            "XGB 0.01 accuracy with a standard deviation of 0.01\n",
            "\n"
          ],
          "name": "stdout"
        }
      ]
    },
    {
      "cell_type": "code",
      "metadata": {
        "id": "LIbWghCyCUGP",
        "outputId": "57bc0831-d408-41b1-b121-0782e9a341ce",
        "colab": {
          "base_uri": "https://localhost:8080/"
        }
      },
      "source": [
        "iris = datasets.load_iris()\n",
        "boston = datasets.load_boston()\n",
        "digits = datasets.load_digits()\n",
        "print(digits.DESCR)"
      ],
      "execution_count": 42,
      "outputs": [
        {
          "output_type": "stream",
          "text": [
            ".. _digits_dataset:\n",
            "\n",
            "Optical recognition of handwritten digits dataset\n",
            "--------------------------------------------------\n",
            "\n",
            "**Data Set Characteristics:**\n",
            "\n",
            "    :Number of Instances: 5620\n",
            "    :Number of Attributes: 64\n",
            "    :Attribute Information: 8x8 image of integer pixels in the range 0..16.\n",
            "    :Missing Attribute Values: None\n",
            "    :Creator: E. Alpaydin (alpaydin '@' boun.edu.tr)\n",
            "    :Date: July; 1998\n",
            "\n",
            "This is a copy of the test set of the UCI ML hand-written digits datasets\n",
            "https://archive.ics.uci.edu/ml/datasets/Optical+Recognition+of+Handwritten+Digits\n",
            "\n",
            "The data set contains images of hand-written digits: 10 classes where\n",
            "each class refers to a digit.\n",
            "\n",
            "Preprocessing programs made available by NIST were used to extract\n",
            "normalized bitmaps of handwritten digits from a preprinted form. From a\n",
            "total of 43 people, 30 contributed to the training set and different 13\n",
            "to the test set. 32x32 bitmaps are divided into nonoverlapping blocks of\n",
            "4x4 and the number of on pixels are counted in each block. This generates\n",
            "an input matrix of 8x8 where each element is an integer in the range\n",
            "0..16. This reduces dimensionality and gives invariance to small\n",
            "distortions.\n",
            "\n",
            "For info on NIST preprocessing routines, see M. D. Garris, J. L. Blue, G.\n",
            "T. Candela, D. L. Dimmick, J. Geist, P. J. Grother, S. A. Janet, and C.\n",
            "L. Wilson, NIST Form-Based Handprint Recognition System, NISTIR 5469,\n",
            "1994.\n",
            "\n",
            ".. topic:: References\n",
            "\n",
            "  - C. Kaynak (1995) Methods of Combining Multiple Classifiers and Their\n",
            "    Applications to Handwritten Digit Recognition, MSc Thesis, Institute of\n",
            "    Graduate Studies in Science and Engineering, Bogazici University.\n",
            "  - E. Alpaydin, C. Kaynak (1998) Cascading Classifiers, Kybernetika.\n",
            "  - Ken Tang and Ponnuthurai N. Suganthan and Xi Yao and A. Kai Qin.\n",
            "    Linear dimensionalityreduction using relevance weighted LDA. School of\n",
            "    Electrical and Electronic Engineering Nanyang Technological University.\n",
            "    2005.\n",
            "  - Claudio Gentile. A New Approximate Maximal Margin Classification\n",
            "    Algorithm. NIPS. 2000.\n"
          ],
          "name": "stdout"
        }
      ]
    },
    {
      "cell_type": "markdown",
      "metadata": {
        "id": "43m-U238SwCa"
      },
      "source": [
        "# Manter no final: Main_Test :("
      ]
    },
    {
      "cell_type": "code",
      "metadata": {
        "id": "9RdKvWYj557z"
      },
      "source": [
        "# randomica = pd.DataFrame(np.random.randint(-500,7000,size=(100, 4)), columns=list('ABCD'))\n",
        "# df = pd.DataFrame(randomica,columns=['A','B','C','D'])\n",
        "# print(df)\n",
        "# corrMatrix = df.corr()\n",
        "# cmap = sns.diverging_palette(220,10,as_cmap=True)\n",
        "# fig, ax = plt.subplots(figsize=(12,6))\n",
        "# sns.heatmap(corrMatrix,annot=True,linewidths=0.5,ax=ax,fmt='.2f',cmap=cmap)\n",
        "# fig.suptitle(\"SEM Normalização\")\n",
        "\n",
        "# scaler = StandardScaler()\n",
        "# fit = scaler.fit_transform(randomica)\n",
        "# dfn = pd.DataFrame(fit,columns=['A','B','C','D'])\n",
        "# print(dfn)\n",
        "# corrMatrix = dfn.corr()\n",
        "# cmap = sns.diverging_palette(220,10,as_cmap=True)\n",
        "# fig, ax = plt.subplots(figsize=(12,6))\n",
        "# sns.heatmap(corrMatrix,annot=True,linewidths=0.5,ax=ax,fmt='.2f',cmap=cmap)\n",
        "# fig.suptitle(\"COM Normalização\")"
      ],
      "execution_count": null,
      "outputs": []
    }
  ]
}