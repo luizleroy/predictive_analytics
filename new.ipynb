{
  "nbformat": 4,
  "nbformat_minor": 0,
  "metadata": {
    "colab": {
      "name": "new.ipynb",
      "provenance": [],
      "authorship_tag": "ABX9TyPSQxLYHGyQhOQslmJKvhJE",
      "include_colab_link": true
    },
    "kernelspec": {
      "name": "python3",
      "display_name": "Python 3"
    }
  },
  "cells": [
    {
      "cell_type": "markdown",
      "metadata": {
        "id": "view-in-github",
        "colab_type": "text"
      },
      "source": [
        "<a href=\"https://colab.research.google.com/github/luizleroy/predictive_analytics/blob/develop/new.ipynb\" target=\"_parent\"><img src=\"https://colab.research.google.com/assets/colab-badge.svg\" alt=\"Open In Colab\"/></a>"
      ]
    },
    {
      "cell_type": "markdown",
      "metadata": {
        "id": "zCWzj5T6MOwc"
      },
      "source": [
        "## **Introduction to Predictive Analysis with Colab and Python**"
      ]
    },
    {
      "cell_type": "markdown",
      "metadata": {
        "id": "qJ6fyxc4M-D1"
      },
      "source": [
        "<table class=\"tfo-notebook-buttons\" align=\"left\">\n",
        "  <td>\n",
        "    <a target=\"_blank\" href=\"\"><img src=\"https://www.tensorflow.org/images/colab_logo_32px.png\" />Run in Google Colab</a>\n",
        "  </td>\n",
        "  <td>\n",
        "    <a target=\"_blank\" href=\"https://github.com/luizleroy/predictive_analytics/blob/develop/new.ipynb\"><img src=\"https://www.tensorflow.org/images/GitHub-Mark-32px.png\" />View source on GitHub</a>\n",
        "  </td>\n",
        "</table>"
      ]
    },
    {
      "cell_type": "code",
      "metadata": {
        "id": "RgIHGxxpYden"
      },
      "source": [
        ""
      ],
      "execution_count": null,
      "outputs": []
    },
    {
      "cell_type": "markdown",
      "metadata": {
        "id": "xVBCW0PsNHwY"
      },
      "source": [
        "Welcome to this Colab! I will get a quick introduction to the Analysis with Colab and Python to Predictive Analysis.\n",
        "\n",
        "Colab is a Python development environment that runs in the browser using Google Cloud."
      ]
    },
    {
      "cell_type": "markdown",
      "metadata": {
        "id": "Z_ZHkRmpOlTV"
      },
      "source": [
        "Agora, vamos na língua de Camões mesmo, hehehe. Pois, po principal objetivo aqui é criar insumos, 'pedaços' de código mesmo, para utilizar em projetos de P&D."
      ]
    },
    {
      "cell_type": "markdown",
      "metadata": {
        "id": "q6evfJ8aOnmY"
      },
      "source": [
        "# Imports"
      ]
    },
    {
      "cell_type": "code",
      "metadata": {
        "id": "mOZdX5rfbDZY",
        "colab": {
          "base_uri": "https://localhost:8080/"
        },
        "outputId": "fe5bc74a-69fc-4701-9d93-fdaf6043a575"
      },
      "source": [
        "#!pip install sklearn"
      ],
      "execution_count": 1,
      "outputs": [
        {
          "output_type": "stream",
          "text": [
            "Requirement already satisfied: sklearn in /usr/local/lib/python3.7/dist-packages (0.0)\n",
            "Requirement already satisfied: scikit-learn in /usr/local/lib/python3.7/dist-packages (from sklearn) (0.22.2.post1)\n",
            "Requirement already satisfied: scipy>=0.17.0 in /usr/local/lib/python3.7/dist-packages (from scikit-learn->sklearn) (1.4.1)\n",
            "Requirement already satisfied: numpy>=1.11.0 in /usr/local/lib/python3.7/dist-packages (from scikit-learn->sklearn) (1.19.5)\n",
            "Requirement already satisfied: joblib>=0.11 in /usr/local/lib/python3.7/dist-packages (from scikit-learn->sklearn) (1.0.1)\n"
          ],
          "name": "stdout"
        }
      ]
    },
    {
      "cell_type": "code",
      "metadata": {
        "id": "71tZsvMaOsH_"
      },
      "source": [
        "import numpy as np\n",
        "import pandas as pd\n",
        "import json\n",
        "from sklearn.ensemble import RandomForestClassifier\n",
        "from sklearn.model_selection import train_test_split\n",
        "from sklearn.preprocessing import StandardScaler\n",
        "import seaborn as sn\n",
        "import matplotlib.pyplot as plt"
      ],
      "execution_count": 1,
      "outputs": []
    },
    {
      "cell_type": "markdown",
      "metadata": {
        "id": "aOy5bMZ6O2pC"
      },
      "source": [
        "# Dados de entrada - Quarteto de Anscombe"
      ]
    },
    {
      "cell_type": "code",
      "metadata": {
        "id": "kMRHjbW-PG7C"
      },
      "source": [
        "data = pd.read_json('sample_data/anscombe.json')\n"
      ],
      "execution_count": 2,
      "outputs": []
    },
    {
      "cell_type": "code",
      "metadata": {
        "colab": {
          "base_uri": "https://localhost:8080/",
          "height": 525
        },
        "id": "xGg62cCb2vIf",
        "outputId": "78fcb22b-f188-46d6-ef60-4b07174dfc33"
      },
      "source": [
        "input_data = data['X']\n",
        "output_data = data['Y']\n",
        "X1 = input_data[0:11]\n",
        "Y1 = output_data[0:11].values\n",
        "Y2 = output_data[11:22].values\n",
        "Y3 = output_data[22:33].values\n",
        "\n",
        "X4 = input_data[33:44].values\n",
        "Y4 = output_data[33:44].values\n",
        "ascombe = {\n",
        "            \"Y\": X1,\n",
        "            \"X1\":Y1,\n",
        "            \"X2\":Y2,\n",
        "            \"X3\":Y3,\n",
        "            \"X4\":X4,\n",
        "            \"Y4\":Y4,\n",
        "}\n",
        "data_para_treinamento_ascombe = pd.DataFrame(ascombe)\n",
        "print(data_para_treinamento_ascombe)\n",
        "print('-----------------------------------------------------------------------')\n",
        "data_para_treinamento_ascombe.describe()"
      ],
      "execution_count": 4,
      "outputs": [
        {
          "output_type": "stream",
          "text": [
            "     Y     X1    X2     X3  X4     Y4\n",
            "0   10   8.04  9.14   7.46   8   6.58\n",
            "1    8   6.95  8.14   6.77   8   5.76\n",
            "2   13   7.58  8.74  12.74   8   7.71\n",
            "3    9   8.81  8.77   7.11   8   8.84\n",
            "4   11   8.33  9.26   7.81   8   8.47\n",
            "5   14   9.96  8.10   8.84   8   7.04\n",
            "6    6   7.24  6.13   6.08   8   5.25\n",
            "7    4   4.26  3.10   5.39  19  12.50\n",
            "8   12  10.84  9.13   8.15   8   5.56\n",
            "9    7   4.81  7.26   6.42   8   7.91\n",
            "10   5   5.68  4.74   5.73   8   6.89\n",
            "-----------------------------------------------------------------------\n"
          ],
          "name": "stdout"
        },
        {
          "output_type": "execute_result",
          "data": {
            "text/html": [
              "<div>\n",
              "<style scoped>\n",
              "    .dataframe tbody tr th:only-of-type {\n",
              "        vertical-align: middle;\n",
              "    }\n",
              "\n",
              "    .dataframe tbody tr th {\n",
              "        vertical-align: top;\n",
              "    }\n",
              "\n",
              "    .dataframe thead th {\n",
              "        text-align: right;\n",
              "    }\n",
              "</style>\n",
              "<table border=\"1\" class=\"dataframe\">\n",
              "  <thead>\n",
              "    <tr style=\"text-align: right;\">\n",
              "      <th></th>\n",
              "      <th>Y</th>\n",
              "      <th>X1</th>\n",
              "      <th>X2</th>\n",
              "      <th>X3</th>\n",
              "      <th>X4</th>\n",
              "      <th>Y4</th>\n",
              "    </tr>\n",
              "  </thead>\n",
              "  <tbody>\n",
              "    <tr>\n",
              "      <th>count</th>\n",
              "      <td>11.000000</td>\n",
              "      <td>11.00000</td>\n",
              "      <td>11.000000</td>\n",
              "      <td>11.000000</td>\n",
              "      <td>11.000000</td>\n",
              "      <td>11.000000</td>\n",
              "    </tr>\n",
              "    <tr>\n",
              "      <th>mean</th>\n",
              "      <td>9.000000</td>\n",
              "      <td>7.50000</td>\n",
              "      <td>7.500909</td>\n",
              "      <td>7.500000</td>\n",
              "      <td>9.000000</td>\n",
              "      <td>7.500909</td>\n",
              "    </tr>\n",
              "    <tr>\n",
              "      <th>std</th>\n",
              "      <td>3.316625</td>\n",
              "      <td>2.03289</td>\n",
              "      <td>2.031657</td>\n",
              "      <td>2.030424</td>\n",
              "      <td>3.316625</td>\n",
              "      <td>2.030579</td>\n",
              "    </tr>\n",
              "    <tr>\n",
              "      <th>min</th>\n",
              "      <td>4.000000</td>\n",
              "      <td>4.26000</td>\n",
              "      <td>3.100000</td>\n",
              "      <td>5.390000</td>\n",
              "      <td>8.000000</td>\n",
              "      <td>5.250000</td>\n",
              "    </tr>\n",
              "    <tr>\n",
              "      <th>25%</th>\n",
              "      <td>6.500000</td>\n",
              "      <td>6.31500</td>\n",
              "      <td>6.695000</td>\n",
              "      <td>6.250000</td>\n",
              "      <td>8.000000</td>\n",
              "      <td>6.170000</td>\n",
              "    </tr>\n",
              "    <tr>\n",
              "      <th>50%</th>\n",
              "      <td>9.000000</td>\n",
              "      <td>7.58000</td>\n",
              "      <td>8.140000</td>\n",
              "      <td>7.110000</td>\n",
              "      <td>8.000000</td>\n",
              "      <td>7.040000</td>\n",
              "    </tr>\n",
              "    <tr>\n",
              "      <th>75%</th>\n",
              "      <td>11.500000</td>\n",
              "      <td>8.57000</td>\n",
              "      <td>8.950000</td>\n",
              "      <td>7.980000</td>\n",
              "      <td>8.000000</td>\n",
              "      <td>8.190000</td>\n",
              "    </tr>\n",
              "    <tr>\n",
              "      <th>max</th>\n",
              "      <td>14.000000</td>\n",
              "      <td>10.84000</td>\n",
              "      <td>9.260000</td>\n",
              "      <td>12.740000</td>\n",
              "      <td>19.000000</td>\n",
              "      <td>12.500000</td>\n",
              "    </tr>\n",
              "  </tbody>\n",
              "</table>\n",
              "</div>"
            ],
            "text/plain": [
              "               Y        X1         X2         X3         X4         Y4\n",
              "count  11.000000  11.00000  11.000000  11.000000  11.000000  11.000000\n",
              "mean    9.000000   7.50000   7.500909   7.500000   9.000000   7.500909\n",
              "std     3.316625   2.03289   2.031657   2.030424   3.316625   2.030579\n",
              "min     4.000000   4.26000   3.100000   5.390000   8.000000   5.250000\n",
              "25%     6.500000   6.31500   6.695000   6.250000   8.000000   6.170000\n",
              "50%     9.000000   7.58000   8.140000   7.110000   8.000000   7.040000\n",
              "75%    11.500000   8.57000   8.950000   7.980000   8.000000   8.190000\n",
              "max    14.000000  10.84000   9.260000  12.740000  19.000000  12.500000"
            ]
          },
          "metadata": {
            "tags": []
          },
          "execution_count": 4
        }
      ]
    },
    {
      "cell_type": "code",
      "metadata": {
        "id": "DUz0jM-Q3xAG"
      },
      "source": [
        ""
      ],
      "execution_count": null,
      "outputs": []
    },
    {
      "cell_type": "markdown",
      "metadata": {
        "id": "ljP0UFkiWwUD"
      },
      "source": [
        "# TODO_TEST Normalização (apenas para dados reais)"
      ]
    },
    {
      "cell_type": "code",
      "metadata": {
        "id": "1vgCzvaBXDQ8",
        "colab": {
          "base_uri": "https://localhost:8080/",
          "height": 524
        },
        "outputId": "c0b4d951-171f-4d04-e711-a43f73a140cd"
      },
      "source": [
        "# y = data_para_treinamento_ascombe.iloc[:,0]\n",
        "# x = data_para_treinamento_ascombe.iloc[:,1:6].values\n",
        "# print('X - input')\n",
        "# print(x)\n",
        "# print('Y - output')\n",
        "# print(y.values)\n",
        "\n",
        "# #TODO\n",
        "# scaler = StandardScaler()\n",
        "# fit = scaler.fit_transform(data_para_treinamento_ascombe)\n",
        "\n",
        "\n",
        "# df = pd.DataFrame(fit,columns=['X1','X2','X3','X4','X5', 'Y'])\n",
        "# corrMatrix = df.corr()\n",
        "# sn.heatmap(corrMatrix, annot=True)\n",
        "# plt.show()"
      ],
      "execution_count": 5,
      "outputs": [
        {
          "output_type": "stream",
          "text": [
            "X - input\n",
            "[[ 8.04  9.14  7.46  8.    6.58]\n",
            " [ 6.95  8.14  6.77  8.    5.76]\n",
            " [ 7.58  8.74 12.74  8.    7.71]\n",
            " [ 8.81  8.77  7.11  8.    8.84]\n",
            " [ 8.33  9.26  7.81  8.    8.47]\n",
            " [ 9.96  8.1   8.84  8.    7.04]\n",
            " [ 7.24  6.13  6.08  8.    5.25]\n",
            " [ 4.26  3.1   5.39 19.   12.5 ]\n",
            " [10.84  9.13  8.15  8.    5.56]\n",
            " [ 4.81  7.26  6.42  8.    7.91]\n",
            " [ 5.68  4.74  5.73  8.    6.89]]\n",
            "Y - output\n",
            "[10  8 13  9 11 14  6  4 12  7  5]\n"
          ],
          "name": "stdout"
        },
        {
          "output_type": "display_data",
          "data": {
            "image/png": "[encoded data removed]",
            "text/plain": [
              "<Figure size 432x288 with 2 Axes>"
            ]
          },
          "metadata": {
            "tags": [],
            "needs_background": "light"
          }
        }
      ]
    },
    {
      "cell_type": "markdown",
      "metadata": {
        "id": "WEADe3J7ogtG"
      },
      "source": [
        "\n",
        "\n",
        "```\n",
        "# Isto está formatado como código\n",
        "```\n",
        "\n",
        "Matriz simétrica **R**,\n",
        "\\begin{equation} \\bf{R} = \\begin{bmatrix} \n",
        "r_{11} = 1 & r_{12} & r_{13} & · · · & r_{1p} \n",
        "\\\\ r_{21}& r_{22} = 1  & r_{23} & · · · & r_{2p} \n",
        "\\\\ r_{31} & r_{32} & r_{33}  = 1 & · · · & r_{3p} \n",
        "\\\\ · · · & · · · & · · · & · · · & · · ·\n",
        "\\\\ r_{p1} & r_{p2} & r_{p3} & · · · & r_{pp} = 1 \n",
        "\\end{bmatrix}, \\end{equation}\n",
        "\n",
        "onde cada valor acima é a correlação calculada (na fórmula abaixo) entre os vetores **x** de {1,2, ...,p},\n",
        "\n",
        "\\begin{equation*}\n",
        "  r_{jk} =\n",
        "  \\frac{ \\sum_{i=1}^{n}(x_{ij}-\\bar{x}_j)(x_{ik}-\\bar{x}_k) }{%\n",
        "        \\sqrt{\\sum_{i=1}^{n}(x_{ij}-\\bar{x}_j)^2}\\sqrt{\\sum_{i=1}^{n}(x_{ik}-\\bar{x}_k)^2}}.\n",
        "\\end{equation*}\n"
      ]
    },
    {
      "cell_type": "markdown",
      "metadata": {
        "id": "f5bVPwVbO2fj"
      },
      "source": [
        "# TODO Regressão Logística"
      ]
    },
    {
      "cell_type": "code",
      "metadata": {
        "id": "BBQAuhxNYgGV"
      },
      "source": [
        ""
      ],
      "execution_count": 5,
      "outputs": []
    }
  ]
}